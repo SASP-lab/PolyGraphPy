{
 "cells": [
  {
   "cell_type": "code",
   "execution_count": 2,
   "id": "e10dd5fd",
   "metadata": {},
   "outputs": [
    {
     "data": {
      "text/html": [
       "<div>\n",
       "<style scoped>\n",
       "    .dataframe tbody tr th:only-of-type {\n",
       "        vertical-align: middle;\n",
       "    }\n",
       "\n",
       "    .dataframe tbody tr th {\n",
       "        vertical-align: top;\n",
       "    }\n",
       "\n",
       "    .dataframe thead th {\n",
       "        text-align: right;\n",
       "    }\n",
       "</style>\n",
       "<table border=\"1\" class=\"dataframe\">\n",
       "  <thead>\n",
       "    <tr style=\"text-align: right;\">\n",
       "      <th></th>\n",
       "      <th>id</th>\n",
       "      <th>chain_size</th>\n",
       "      <th>xx</th>\n",
       "      <th>yy</th>\n",
       "      <th>zz</th>\n",
       "      <th>static_polarizability</th>\n",
       "    </tr>\n",
       "  </thead>\n",
       "  <tbody>\n",
       "    <tr>\n",
       "      <th>count</th>\n",
       "      <td>9.208000e+03</td>\n",
       "      <td>9208.0</td>\n",
       "      <td>9208.000000</td>\n",
       "      <td>9208.000000</td>\n",
       "      <td>9208.000000</td>\n",
       "      <td>9208.000000</td>\n",
       "    </tr>\n",
       "    <tr>\n",
       "      <th>mean</th>\n",
       "      <td>6.529761e+07</td>\n",
       "      <td>0.0</td>\n",
       "      <td>182.101843</td>\n",
       "      <td>165.098919</td>\n",
       "      <td>193.269279</td>\n",
       "      <td>180.156681</td>\n",
       "    </tr>\n",
       "    <tr>\n",
       "      <th>std</th>\n",
       "      <td>5.045335e+07</td>\n",
       "      <td>0.0</td>\n",
       "      <td>83.794621</td>\n",
       "      <td>98.714967</td>\n",
       "      <td>94.820246</td>\n",
       "      <td>72.935720</td>\n",
       "    </tr>\n",
       "    <tr>\n",
       "      <th>min</th>\n",
       "      <td>3.248000e+03</td>\n",
       "      <td>0.0</td>\n",
       "      <td>4.334219</td>\n",
       "      <td>4.019532</td>\n",
       "      <td>0.185242</td>\n",
       "      <td>27.820679</td>\n",
       "    </tr>\n",
       "    <tr>\n",
       "      <th>25%</th>\n",
       "      <td>1.284903e+07</td>\n",
       "      <td>0.0</td>\n",
       "      <td>125.402667</td>\n",
       "      <td>90.467746</td>\n",
       "      <td>124.526352</td>\n",
       "      <td>127.535665</td>\n",
       "    </tr>\n",
       "    <tr>\n",
       "      <th>50%</th>\n",
       "      <td>6.727262e+07</td>\n",
       "      <td>0.0</td>\n",
       "      <td>171.540961</td>\n",
       "      <td>146.112978</td>\n",
       "      <td>180.371019</td>\n",
       "      <td>173.418787</td>\n",
       "    </tr>\n",
       "    <tr>\n",
       "      <th>75%</th>\n",
       "      <td>9.168526e+07</td>\n",
       "      <td>0.0</td>\n",
       "      <td>223.298835</td>\n",
       "      <td>222.982157</td>\n",
       "      <td>247.378887</td>\n",
       "      <td>218.825249</td>\n",
       "    </tr>\n",
       "    <tr>\n",
       "      <th>max</th>\n",
       "      <td>1.718551e+08</td>\n",
       "      <td>0.0</td>\n",
       "      <td>1186.513807</td>\n",
       "      <td>1047.835707</td>\n",
       "      <td>906.710499</td>\n",
       "      <td>808.095149</td>\n",
       "    </tr>\n",
       "  </tbody>\n",
       "</table>\n",
       "</div>"
      ],
      "text/plain": [
       "                 id  chain_size           xx           yy           zz  \\\n",
       "count  9.208000e+03      9208.0  9208.000000  9208.000000  9208.000000   \n",
       "mean   6.529761e+07         0.0   182.101843   165.098919   193.269279   \n",
       "std    5.045335e+07         0.0    83.794621    98.714967    94.820246   \n",
       "min    3.248000e+03         0.0     4.334219     4.019532     0.185242   \n",
       "25%    1.284903e+07         0.0   125.402667    90.467746   124.526352   \n",
       "50%    6.727262e+07         0.0   171.540961   146.112978   180.371019   \n",
       "75%    9.168526e+07         0.0   223.298835   222.982157   247.378887   \n",
       "max    1.718551e+08         0.0  1186.513807  1047.835707   906.710499   \n",
       "\n",
       "       static_polarizability  \n",
       "count            9208.000000  \n",
       "mean              180.156681  \n",
       "std                72.935720  \n",
       "min                27.820679  \n",
       "25%               127.535665  \n",
       "50%               173.418787  \n",
       "75%               218.825249  \n",
       "max               808.095149  "
      ]
     },
     "execution_count": 2,
     "metadata": {},
     "output_type": "execute_result"
    }
   ],
   "source": [
    "import pandas as pd\n",
    "\n",
    "df = pd.read_csv('../polygraphpy/data/polarizability_data.csv')\n",
    "df = df[(df['chain_size'] == 0)]\n",
    "\n",
    "df.describe()"
   ]
  },
  {
   "cell_type": "markdown",
   "id": "4946eaef",
   "metadata": {},
   "source": [
    "# Test 1: just atomic number"
   ]
  },
  {
   "cell_type": "code",
   "execution_count": 2,
   "id": "ff939429",
   "metadata": {},
   "outputs": [
    {
     "name": "stderr",
     "output_type": "stream",
     "text": [
      "/home/jgduarte/Documents/RA/Projects/3M/PolyGraphPy/.venv/lib/python3.13/site-packages/torch_geometric/utils/sparse.py:277: UserWarning: Sparse CSR tensor support is in beta state. If you miss a functionality in the sparse tensor support, please submit a feature request to https://github.com/pytorch/pytorch/issues. (Triggered internally at /pytorch/aten/src/ATen/SparseCsrTensorImpl.cpp:53.)\n",
      "  adj = torch.sparse_csr_tensor(\n"
     ]
    },
    {
     "name": "stdout",
     "output_type": "stream",
     "text": [
      "Epoch 0, Loss: 3.9372611\n",
      "Epoch 10, Loss: 0.6182612\n",
      "Epoch 20, Loss: 0.5888173\n",
      "Epoch 30, Loss: 0.5742637\n",
      "Epoch 40, Loss: 0.5710284\n",
      "Epoch 50, Loss: 0.5693075\n",
      "Epoch 60, Loss: 0.5695809\n",
      "Epoch 70, Loss: 0.5686039\n",
      "Epoch 80, Loss: 0.5672253\n",
      "Epoch 90, Loss: 0.5654160\n",
      "Epoch 100, Loss: 0.5616573\n",
      "Epoch 110, Loss: 0.5576729\n",
      "Epoch 120, Loss: 0.5562569\n",
      "Epoch 130, Loss: 0.5554540\n",
      "Epoch 140, Loss: 0.5552011\n",
      "Epoch 150, Loss: 0.5541039\n",
      "Epoch 160, Loss: 0.5542535\n",
      "Epoch 170, Loss: 0.5552383\n",
      "Epoch 180, Loss: 0.5548146\n",
      "Epoch 190, Loss: 0.5547770\n",
      "Epoch 200, Loss: 0.5545933\n",
      "Epoch 210, Loss: 0.5545093\n",
      "Epoch 220, Loss: 0.5544252\n",
      "Epoch 230, Loss: 0.5537606\n",
      "Epoch 240, Loss: 0.5547473\n",
      "Epoch 250, Loss: 0.5602929\n",
      "Epoch 260, Loss: 0.5562774\n",
      "Epoch 270, Loss: 0.5574912\n",
      "Epoch 280, Loss: 0.5574590\n",
      "Epoch 290, Loss: 0.5569441\n",
      "Evaluation Metrics:\n",
      "ROC-AUC: 0.8514353\n",
      "AP: 0.8188117\n",
      "Accuracy: 0.7533400\n",
      "F1: 0.8003346\n"
     ]
    }
   ],
   "source": [
    "import torch\n",
    "import torch.nn.functional as F\n",
    "from torch_geometric.nn import GraphUNet\n",
    "from torch_geometric.data import Data\n",
    "from torch_geometric.loader import DataLoader\n",
    "from torch_geometric.utils import negative_sampling\n",
    "from rdkit import Chem\n",
    "from torchmetrics.classification import AUROC, AveragePrecision, Accuracy, F1Score\n",
    "\n",
    "smiles_list = df['smiles'].values\n",
    "\n",
    "# === Convert SMILES to Data ===\n",
    "def smiles_to_data(smiles):\n",
    "    mol = Chem.MolFromSmiles(smiles)\n",
    "    if mol is None:\n",
    "        return None\n",
    "    x = torch.tensor([[atom.GetAtomicNum()] for atom in mol.GetAtoms()], dtype=torch.float)\n",
    "    edge_index = torch.tensor([[bond.GetBeginAtomIdx(), bond.GetEndAtomIdx()] for bond in mol.GetBonds()],\n",
    "                              dtype=torch.long).t().contiguous()\n",
    "    edge_index = torch.cat([edge_index, edge_index[[1, 0]]], dim=1)  # Make undirected\n",
    "    return Data(x=x, edge_index=edge_index)\n",
    "\n",
    "# === Build Dataset ===\n",
    "datas = [smiles_to_data(smiles) for smiles in smiles_list]\n",
    "datas = [data for data in datas if data is not None and data.edge_index.size(1) > 0]\n",
    "loader = DataLoader(datas, batch_size=64, shuffle=True)\n",
    "\n",
    "# === Model Setup ===\n",
    "device = torch.device('cuda' if torch.cuda.is_available() else 'cpu')\n",
    "model = GraphUNet(in_channels=1, hidden_channels=32, out_channels=4, depth=2).to(device)\n",
    "optimizer = torch.optim.Adam(model.parameters(), lr=1e-4)\n",
    "\n",
    "# === Training Loop ===\n",
    "def train():\n",
    "    model.train()\n",
    "    total_loss = 0\n",
    "    valid_batches = 0\n",
    "    for batch in loader:\n",
    "        if batch.edge_index.size(1) == 0:\n",
    "            continue\n",
    "        batch = batch.to(device)\n",
    "        optimizer.zero_grad()\n",
    "\n",
    "        z = model(batch.x, batch.edge_index)\n",
    "        pos_edge_index = batch.edge_index\n",
    "\n",
    "        neg_edge_index = negative_sampling(\n",
    "            edge_index=pos_edge_index,\n",
    "            num_nodes=batch.num_nodes,\n",
    "            num_neg_samples=pos_edge_index.size(1),\n",
    "            method='sparse'\n",
    "        )\n",
    "\n",
    "        pos_score = (z[pos_edge_index[0]] * z[pos_edge_index[1]]).sum(1)\n",
    "        neg_score = (z[neg_edge_index[0]] * z[neg_edge_index[1]]).sum(1)\n",
    "        scores = torch.cat([pos_score, neg_score])\n",
    "        labels = torch.cat([torch.ones_like(pos_score), torch.zeros_like(neg_score)])\n",
    "\n",
    "        loss = F.binary_cross_entropy_with_logits(scores, labels)\n",
    "        loss.backward()\n",
    "        optimizer.step()\n",
    "\n",
    "        total_loss += loss.item()\n",
    "        valid_batches += 1\n",
    "\n",
    "    return total_loss / valid_batches if valid_batches > 0 else 0\n",
    "\n",
    "# === Evaluation ===\n",
    "def evaluate():\n",
    "    model.eval()\n",
    "    metrics = {\"ROC-AUC\": 0, \"AP\": 0, \"Accuracy\": 0, \"F1\": 0}\n",
    "    valid_graphs = 0\n",
    "\n",
    "    auroc = AUROC(task=\"binary\").to(device)\n",
    "    ap = AveragePrecision(task=\"binary\").to(device)\n",
    "    acc = Accuracy(task=\"binary\").to(device)\n",
    "    f1 = F1Score(task=\"binary\").to(device)\n",
    "\n",
    "    with torch.no_grad():\n",
    "        for batch in loader:\n",
    "            if batch.edge_index.size(1) == 0:\n",
    "                continue\n",
    "            batch = batch.to(device)\n",
    "            z = model(batch.x, batch.edge_index)\n",
    "\n",
    "            pos_edge_index = batch.edge_index\n",
    "            neg_edge_index = negative_sampling(\n",
    "                edge_index=pos_edge_index,\n",
    "                num_nodes=batch.num_nodes,\n",
    "                num_neg_samples=pos_edge_index.size(1),\n",
    "                method='sparse'\n",
    "            )\n",
    "\n",
    "            pos_score = (z[pos_edge_index[0]] * z[pos_edge_index[1]]).sum(1)\n",
    "            neg_score = (z[neg_edge_index[0]] * z[neg_edge_index[1]]).sum(1)\n",
    "            scores = torch.cat([pos_score, neg_score]).sigmoid()\n",
    "            labels = torch.cat([torch.ones_like(pos_score), torch.zeros_like(neg_score)]).long()\n",
    "\n",
    "            metrics[\"ROC-AUC\"] += auroc(scores, labels).item()\n",
    "            metrics[\"AP\"] += ap(scores, labels).item()\n",
    "            metrics[\"Accuracy\"] += acc(scores, labels).item()\n",
    "            metrics[\"F1\"] += f1(scores, labels).item()\n",
    "            valid_graphs += 1\n",
    "\n",
    "    if valid_graphs > 0:\n",
    "        for key in metrics:\n",
    "            metrics[key] /= valid_graphs\n",
    "    return metrics\n",
    "\n",
    "# === Run Training ===\n",
    "for epoch in range(300):\n",
    "    loss = train()\n",
    "    if epoch % 10 == 0:\n",
    "        print(f\"Epoch {epoch}, Loss: {loss:.7f}\")\n",
    "\n",
    "# === Final Evaluation ===\n",
    "metrics = evaluate()\n",
    "print(\"Evaluation Metrics:\")\n",
    "for key, val in metrics.items():\n",
    "    print(f\"{key}: {val:.7f}\")\n"
   ]
  },
  {
   "cell_type": "markdown",
   "id": "178c0753",
   "metadata": {},
   "source": [
    "# Test 2: atomic number + valency (degree) + polarizability"
   ]
  },
  {
   "cell_type": "code",
   "execution_count": null,
   "id": "490f29d9",
   "metadata": {},
   "outputs": [
    {
     "name": "stderr",
     "output_type": "stream",
     "text": [
      "/home/jgduarte/Documents/RA/Projects/3M/PolyGraphPy/.venv/lib/python3.13/site-packages/torch_geometric/utils/sparse.py:277: UserWarning: Sparse CSR tensor support is in beta state. If you miss a functionality in the sparse tensor support, please submit a feature request to https://github.com/pytorch/pytorch/issues. (Triggered internally at /pytorch/aten/src/ATen/SparseCsrTensorImpl.cpp:53.)\n",
      "  adj = torch.sparse_csr_tensor(\n"
     ]
    },
    {
     "name": "stdout",
     "output_type": "stream",
     "text": [
      "Epoch 0, Loss: 0.6980620\n",
      "Epoch 10, Loss: 0.6433300\n",
      "Epoch 20, Loss: 0.5750792\n",
      "Epoch 30, Loss: 0.5554897\n",
      "Epoch 40, Loss: 0.5518950\n",
      "Epoch 50, Loss: 0.5504513\n",
      "Epoch 60, Loss: 0.5482077\n",
      "Epoch 70, Loss: 0.5472448\n",
      "Epoch 80, Loss: 0.5473210\n",
      "Epoch 90, Loss: 0.5466131\n",
      "Epoch 100, Loss: 0.5484459\n",
      "Epoch 110, Loss: 0.5470411\n",
      "Epoch 120, Loss: 0.5467675\n",
      "Epoch 130, Loss: 0.5460098\n",
      "Epoch 140, Loss: 0.5459793\n",
      "Epoch 150, Loss: 0.5452753\n",
      "Epoch 160, Loss: 0.5443583\n",
      "Epoch 170, Loss: 0.5451609\n",
      "Epoch 180, Loss: 0.5451077\n",
      "Epoch 190, Loss: 0.5443734\n",
      "Epoch 200, Loss: 0.5450990\n",
      "Epoch 210, Loss: 0.5434482\n",
      "Epoch 220, Loss: 0.5444014\n",
      "Epoch 230, Loss: 0.5434358\n",
      "Epoch 240, Loss: 0.5435959\n",
      "Epoch 250, Loss: 0.5430155\n",
      "Epoch 260, Loss: 0.5431014\n",
      "Epoch 270, Loss: 0.5425533\n",
      "Epoch 280, Loss: 0.5421044\n",
      "Epoch 290, Loss: 0.5423300\n"
     ]
    }
   ],
   "source": [
    "import torch\n",
    "import torch.nn.functional as F\n",
    "from torch_geometric.nn import GraphUNet\n",
    "from torch_geometric.data import Data\n",
    "from torch_geometric.loader import DataLoader\n",
    "from torch_geometric.utils import negative_sampling\n",
    "from rdkit import Chem\n",
    "from torchmetrics.classification import AUROC, AveragePrecision, Accuracy, F1Score\n",
    "from sklearn.metrics import precision_score, recall_score, f1_score, accuracy_score\n",
    "from sklearn.preprocessing import MinMaxScaler\n",
    "\n",
    "smiles_list = df['smiles'].values\n",
    "polarizability = df['static_polarizability'].values.reshape(-1,1)\n",
    "\n",
    "# MinMaxScaler for polarizability\n",
    "scaler = MinMaxScaler()\n",
    "polarizability_scaled = scaler.fit_transform(polarizability).flatten()\n",
    "\n",
    "# Convert SMILES to Data with atomic number, degree, and scaled polarizability as features\n",
    "def smiles_to_data(smiles, polarizability):\n",
    "    mol = Chem.MolFromSmiles(smiles)\n",
    "    if mol is None:\n",
    "        return None\n",
    "    x = torch.tensor([[atom.GetAtomicNum(), atom.GetDegree(), polarizability] for atom in mol.GetAtoms()], dtype=torch.float)\n",
    "    edge_index = torch.tensor([[bond.GetBeginAtomIdx(), bond.GetEndAtomIdx()] for bond in mol.GetBonds()],\n",
    "                              dtype=torch.long).t().contiguous()\n",
    "    edge_index = torch.cat([edge_index, edge_index[[1, 0]]], dim=1)  # Undirected\n",
    "    return Data(x=x, edge_index=edge_index)\n",
    "\n",
    "# Build dataset\n",
    "datas = [smiles_to_data(smiles, pol) for smiles, pol in zip(smiles_list, polarizability_scaled)]\n",
    "datas = [data for data in datas if data is not None and data.edge_index.size(1) > 0]\n",
    "loader = DataLoader(datas, batch_size=256, shuffle=True)\n",
    "\n",
    "# Model setup\n",
    "device = torch.device('cuda' if torch.cuda.is_available() else 'cpu')\n",
    "model = GraphUNet(in_channels=3, hidden_channels=256, out_channels=4, depth=5).to(device)  # in_channels=3 for atomic number, degree, polarizability\n",
    "optimizer = torch.optim.Adam(model.parameters(), lr=1e-5)\n",
    "\n",
    "# Training loop\n",
    "def train():\n",
    "    model.train()\n",
    "    total_loss = 0\n",
    "    valid_batches = 0\n",
    "    for batch in loader:\n",
    "        if batch.edge_index.size(1) == 0:\n",
    "            continue\n",
    "        batch = batch.to(device)\n",
    "        optimizer.zero_grad()\n",
    "        z = model(batch.x, batch.edge_index)\n",
    "        pos_edge_index = batch.edge_index\n",
    "        neg_edge_index = negative_sampling(\n",
    "            edge_index=pos_edge_index,\n",
    "            num_nodes=batch.num_nodes,\n",
    "            num_neg_samples=pos_edge_index.size(1),\n",
    "            method='sparse'\n",
    "        )\n",
    "        pos_score = (z[pos_edge_index[0]] * z[pos_edge_index[1]]).sum(1)\n",
    "        neg_score = (z[neg_edge_index[0]] * z[neg_edge_index[1]]).sum(1)\n",
    "        scores = torch.cat([pos_score, neg_score])\n",
    "        labels = torch.cat([torch.ones_like(pos_score), torch.zeros_like(neg_score)])\n",
    "        loss = F.binary_cross_entropy_with_logits(scores, labels)\n",
    "        loss.backward()\n",
    "        optimizer.step()\n",
    "        total_loss += loss.item()\n",
    "        valid_batches += 1\n",
    "    return total_loss / valid_batches if valid_batches > 0 else 0\n",
    "\n",
    "# Run training\n",
    "for epoch in range(300):\n",
    "    loss = train()\n",
    "    if epoch % 10 == 0:\n",
    "        print(f\"Epoch {epoch}, Loss: {loss:.7f}\")"
   ]
  },
  {
   "cell_type": "code",
   "execution_count": null,
   "id": "c45bd315",
   "metadata": {},
   "outputs": [
    {
     "name": "stdout",
     "output_type": "stream",
     "text": [
      "Metrics saved to 'reconstruction_metrics.csv'\n"
     ]
    }
   ],
   "source": [
    "# Reconstruct graph and compute metrics\n",
    "def reconstruct_and_evaluate(data, threshold=0.6):\n",
    "    model.eval()\n",
    "    data = data.to(device)\n",
    "    with torch.no_grad():\n",
    "        z = model(data.x, data.edge_index)\n",
    "        pos_edge_index = data.edge_index\n",
    "        neg_edge_index = negative_sampling(\n",
    "            edge_index=pos_edge_index,\n",
    "            num_nodes=data.num_nodes,\n",
    "            num_neg_samples=pos_edge_index.size(1),\n",
    "            method='sparse'\n",
    "        ).to(device)\n",
    "        all_edges = torch.cat([pos_edge_index, neg_edge_index], dim=1)\n",
    "        scores = (z[all_edges[0]] * z[all_edges[1]]).sum(1).sigmoid()\n",
    "        pred_edges = all_edges[:, scores > threshold]\n",
    "\n",
    "        true_edges = pos_edge_index.cpu().numpy().T\n",
    "        pred_edges = pred_edges.cpu().numpy().T\n",
    "\n",
    "        true_edge_set = set(tuple(sorted(edge)) for edge in true_edges)\n",
    "        pred_edge_set = set(tuple(sorted(edge)) for edge in pred_edges)\n",
    "\n",
    "        true_labels = [1 if tuple(sorted([i, j])) in true_edge_set else 0 for i, j in all_edges.cpu().numpy().T]\n",
    "        pred_labels = [1 if tuple(sorted([i, j])) in pred_edge_set else 0 for i, j in all_edges.cpu().numpy().T]\n",
    "        \n",
    "        accuracy = accuracy_score(true_labels, pred_labels, zero_division=0)\n",
    "        precision = precision_score(true_labels, pred_labels, zero_division=0)\n",
    "        recall = recall_score(true_labels, pred_labels, zero_division=0)\n",
    "        f1 = f1_score(true_labels, pred_labels, zero_division=0)\n",
    "        \n",
    "        return precision, recall, f1, accuracy, z, true_labels, pred_labels, true_edge_set, pred_edge_set\n",
    "\n",
    "# Store metrics for all graphs\n",
    "metrics_list = []\n",
    "for idx, data in enumerate(datas):\n",
    "    precision, recall, f1, accuracy, z, true_labels, pred_labels, true_edge_set, pred_edge_set = reconstruct_and_evaluate(data)\n",
    "    metrics_list.append({\n",
    "        'id': idx,\n",
    "        'smiles': smiles_list[idx],\n",
    "        'accuracy': accuracy,\n",
    "        'precision': precision,\n",
    "        'recall': recall,\n",
    "        'f1': f1\n",
    "    })\n",
    "    break\n",
    "\n",
    "# Save metrics to CSV\n",
    "metrics_df = pd.DataFrame(metrics_list)\n",
    "metrics_df.to_csv('reconstruction_metrics.csv', index=False)\n",
    "print(\"Metrics saved to 'reconstruction_metrics.csv'\")\n",
    "\n",
    "# Overall evaluation\n",
    "def evaluate():\n",
    "    model.eval()\n",
    "    metrics = {\"ROC-AUC\": 0, \"AP\": 0, \"Accuracy\": 0, \"F1\": 0}\n",
    "    valid_graphs = 0\n",
    "    auroc = AUROC(task=\"binary\").to(device)\n",
    "    ap = AveragePrecision(task=\"binary\").to(device)\n",
    "    acc = Accuracy(task=\"binary\").to(device)\n",
    "    f1 = F1Score(task=\"binary\").to(device)\n",
    "    with torch.no_grad():\n",
    "        for batch in loader:\n",
    "            if batch.edge_index.size(1) == 0:\n",
    "                continue\n",
    "            batch = batch.to(device)\n",
    "            z = model(batch.x, batch.edge_index)\n",
    "            pos_edge_index = batch.edge_index\n",
    "            neg_edge_index = negative_sampling(\n",
    "                edge_index=pos_edge_index,\n",
    "                num_nodes=batch.num_nodes,\n",
    "                num_neg_samples=pos_edge_index.size(1),\n",
    "                method='sparse'\n",
    "            )\n",
    "            pos_score = (z[pos_edge_index[0]] * z[pos_edge_index[1]]).sum(1)\n",
    "            neg_score = (z[neg_edge_index[0]] * z[neg_edge_index[1]]).sum(1)\n",
    "            scores = torch.cat([pos_score, neg_score]).sigmoid()\n",
    "            labels = torch.cat([torch.ones_like(pos_score), torch.zeros_like(neg_score)]).long()\n",
    "            metrics[\"ROC-AUC\"] += auroc(scores, labels).item()\n",
    "            metrics[\"AP\"] += ap(scores, labels).item()\n",
    "            metrics[\"Accuracy\"] += acc(scores, labels).item()\n",
    "            metrics[\"F1\"] += f1(scores, labels).item()\n",
    "            valid_graphs += 1\n",
    "    if valid_graphs > 0:\n",
    "        for key in metrics:\n",
    "            metrics[key] /= valid_graphs\n",
    "    return metrics, z, scores, labels\n",
    "\n",
    "# metrics, z, scores, labels = evaluate()\n",
    "# print(\"Evaluation Metrics:\")\n",
    "# for key, val in metrics.items():\n",
    "#     print(f\"{key}: {val:.4f}\")"
   ]
  },
  {
   "cell_type": "code",
   "execution_count": 12,
   "id": "b769ef82",
   "metadata": {},
   "outputs": [
    {
     "data": {
      "text/plain": [
       "torch.Size([24, 4])"
      ]
     },
     "execution_count": 12,
     "metadata": {},
     "output_type": "execute_result"
    }
   ],
   "source": [
    "z.shape"
   ]
  },
  {
   "cell_type": "code",
   "execution_count": 19,
   "id": "a76d9726",
   "metadata": {},
   "outputs": [
    {
     "data": {
      "text/plain": [
       "100"
      ]
     },
     "execution_count": 19,
     "metadata": {},
     "output_type": "execute_result"
    }
   ],
   "source": [
    "len(true_labels)"
   ]
  },
  {
   "cell_type": "code",
   "execution_count": null,
   "id": "0cbe391a",
   "metadata": {},
   "outputs": [
    {
     "data": {
      "text/plain": [
       "100"
      ]
     },
     "execution_count": 20,
     "metadata": {},
     "output_type": "execute_result"
    },
    {
     "ename": "",
     "evalue": "",
     "output_type": "error",
     "traceback": [
      "\u001b[1;31mThe Kernel crashed while executing code in the current cell or a previous cell. \n",
      "\u001b[1;31mPlease review the code in the cell(s) to identify a possible cause of the failure. \n",
      "\u001b[1;31mClick <a href='https://aka.ms/vscodeJupyterKernelCrash'>here</a> for more info. \n",
      "\u001b[1;31mView Jupyter <a href='command:jupyter.viewOutput'>log</a> for further details."
     ]
    }
   ],
   "source": [
    "len(pred_labels)"
   ]
  },
  {
   "cell_type": "markdown",
   "id": "99514d85",
   "metadata": {},
   "source": [
    "## Reconstruction analysis"
   ]
  },
  {
   "cell_type": "code",
   "execution_count": 5,
   "id": "72b54aeb",
   "metadata": {},
   "outputs": [
    {
     "data": {
      "text/html": [
       "<div>\n",
       "<style scoped>\n",
       "    .dataframe tbody tr th:only-of-type {\n",
       "        vertical-align: middle;\n",
       "    }\n",
       "\n",
       "    .dataframe tbody tr th {\n",
       "        vertical-align: top;\n",
       "    }\n",
       "\n",
       "    .dataframe thead th {\n",
       "        text-align: right;\n",
       "    }\n",
       "</style>\n",
       "<table border=\"1\" class=\"dataframe\">\n",
       "  <thead>\n",
       "    <tr style=\"text-align: right;\">\n",
       "      <th></th>\n",
       "      <th>id</th>\n",
       "      <th>precision</th>\n",
       "      <th>recall</th>\n",
       "      <th>f1</th>\n",
       "    </tr>\n",
       "  </thead>\n",
       "  <tbody>\n",
       "    <tr>\n",
       "      <th>count</th>\n",
       "      <td>9208.000000</td>\n",
       "      <td>9208.000000</td>\n",
       "      <td>9208.000000</td>\n",
       "      <td>9208.000000</td>\n",
       "    </tr>\n",
       "    <tr>\n",
       "      <th>mean</th>\n",
       "      <td>4603.500000</td>\n",
       "      <td>0.747713</td>\n",
       "      <td>0.869396</td>\n",
       "      <td>0.799347</td>\n",
       "    </tr>\n",
       "    <tr>\n",
       "      <th>std</th>\n",
       "      <td>2658.264973</td>\n",
       "      <td>0.070181</td>\n",
       "      <td>0.089800</td>\n",
       "      <td>0.054141</td>\n",
       "    </tr>\n",
       "    <tr>\n",
       "      <th>min</th>\n",
       "      <td>0.000000</td>\n",
       "      <td>0.500000</td>\n",
       "      <td>0.428571</td>\n",
       "      <td>0.500000</td>\n",
       "    </tr>\n",
       "    <tr>\n",
       "      <th>25%</th>\n",
       "      <td>2301.750000</td>\n",
       "      <td>0.702703</td>\n",
       "      <td>0.823529</td>\n",
       "      <td>0.767677</td>\n",
       "    </tr>\n",
       "    <tr>\n",
       "      <th>50%</th>\n",
       "      <td>4603.500000</td>\n",
       "      <td>0.746269</td>\n",
       "      <td>0.882353</td>\n",
       "      <td>0.800000</td>\n",
       "    </tr>\n",
       "    <tr>\n",
       "      <th>75%</th>\n",
       "      <td>6905.250000</td>\n",
       "      <td>0.791667</td>\n",
       "      <td>0.935484</td>\n",
       "      <td>0.836364</td>\n",
       "    </tr>\n",
       "    <tr>\n",
       "      <th>max</th>\n",
       "      <td>9207.000000</td>\n",
       "      <td>1.000000</td>\n",
       "      <td>1.000000</td>\n",
       "      <td>0.987013</td>\n",
       "    </tr>\n",
       "  </tbody>\n",
       "</table>\n",
       "</div>"
      ],
      "text/plain": [
       "                id    precision       recall           f1\n",
       "count  9208.000000  9208.000000  9208.000000  9208.000000\n",
       "mean   4603.500000     0.747713     0.869396     0.799347\n",
       "std    2658.264973     0.070181     0.089800     0.054141\n",
       "min       0.000000     0.500000     0.428571     0.500000\n",
       "25%    2301.750000     0.702703     0.823529     0.767677\n",
       "50%    4603.500000     0.746269     0.882353     0.800000\n",
       "75%    6905.250000     0.791667     0.935484     0.836364\n",
       "max    9207.000000     1.000000     1.000000     0.987013"
      ]
     },
     "execution_count": 5,
     "metadata": {},
     "output_type": "execute_result"
    }
   ],
   "source": [
    "df_results = pd.read_csv('reconstruction_metrics.csv')\n",
    "df_results.describe()"
   ]
  },
  {
   "cell_type": "code",
   "execution_count": 6,
   "id": "b64bb8ec",
   "metadata": {},
   "outputs": [],
   "source": [
    "df_results = df_results[(df_results['precision'] >= 0.75) & (df_results['recall'] >= 0.75) & (df_results['f1'] >= 0.75)]\n",
    "df_results.to_csv('graph_prediction_training.csv', index=False)"
   ]
  },
  {
   "cell_type": "code",
   "execution_count": 7,
   "id": "1fd46023",
   "metadata": {},
   "outputs": [
    {
     "data": {
      "text/plain": [
       "<Axes: >"
      ]
     },
     "execution_count": 7,
     "metadata": {},
     "output_type": "execute_result"
    },
    {
     "data": {
      "image/png": "[encoded data removed]",
      "text/plain": [
       "<Figure size 640x480 with 1 Axes>"
      ]
     },
     "metadata": {},
     "output_type": "display_data"
    }
   ],
   "source": [
    "df_results['precision'].hist(bins=300)"
   ]
  },
  {
   "cell_type": "code",
   "execution_count": 8,
   "id": "34c7defc",
   "metadata": {},
   "outputs": [
    {
     "data": {
      "text/plain": [
       "<Axes: >"
      ]
     },
     "execution_count": 8,
     "metadata": {},
     "output_type": "execute_result"
    },
    {
     "data": {
      "image/png": "[encoded data removed]",
      "text/plain": [
       "<Figure size 640x480 with 1 Axes>"
      ]
     },
     "metadata": {},
     "output_type": "display_data"
    }
   ],
   "source": [
    "df_results['recall'].hist(bins=300)"
   ]
  },
  {
   "cell_type": "code",
   "execution_count": 9,
   "id": "8ec86fd5",
   "metadata": {},
   "outputs": [
    {
     "data": {
      "text/plain": [
       "<Axes: >"
      ]
     },
     "execution_count": 9,
     "metadata": {},
     "output_type": "execute_result"
    },
    {
     "data": {
      "image/png": "[encoded data removed]",
      "text/plain": [
       "<Figure size 640x480 with 1 Axes>"
      ]
     },
     "metadata": {},
     "output_type": "display_data"
    }
   ],
   "source": [
    "df_results['f1'].hist(bins=300)"
   ]
  }
 ],
 "metadata": {
  "kernelspec": {
   "display_name": ".venv",
   "language": "python",
   "name": "python3"
  },
  "language_info": {
   "codemirror_mode": {
    "name": "ipython",
    "version": 3
   },
   "file_extension": ".py",
   "mimetype": "text/x-python",
   "name": "python",
   "nbconvert_exporter": "python",
   "pygments_lexer": "ipython3",
   "version": "3.13.3"
  }
 },
 "nbformat": 4,
 "nbformat_minor": 5
}
