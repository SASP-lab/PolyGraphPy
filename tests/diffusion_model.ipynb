{
 "cells": [
  {
   "cell_type": "markdown",
   "id": "9e7bc164",
   "metadata": {},
   "source": [
    "# Test"
   ]
  },
  {
   "cell_type": "code",
   "execution_count": null,
   "id": "17677088",
   "metadata": {},
   "outputs": [
    {
     "data": {
      "application/3dmoljs_load.v0": "<div id=\"3dmolviewer_17528862880268931\"  style=\"position: relative; width: 300px; height: 300px;\">\n        <p id=\"3dmolwarning_17528862880268931\" style=\"background-color:#ffcccc;color:black\">3Dmol.js failed to load for some reason.  Please check your browser console for error messages.<br></p>\n        </div>\n<script>\n\nvar loadScriptAsync = function(uri){\n  return new Promise((resolve, reject) => {\n    //this is to ignore the existence of requirejs amd\n    var savedexports, savedmodule;\n    if (typeof exports !== 'undefined') savedexports = exports;\n    else exports = {}\n    if (typeof module !== 'undefined') savedmodule = module;\n    else module = {}\n\n    var tag = document.createElement('script');\n    tag.src = uri;\n    tag.async = true;\n    tag.onload = () => {\n        exports = savedexports;\n        module = savedmodule;\n        resolve();\n    };\n  var firstScriptTag = document.getElementsByTagName('script')[0];\n  firstScriptTag.parentNode.insertBefore(tag, firstScriptTag);\n});\n};\n\nif(typeof $3Dmolpromise === 'undefined') {\n$3Dmolpromise = null;\n  $3Dmolpromise = loadScriptAsync('https://cdn.jsdelivr.net/npm/3dmol@2.5.1/build/3Dmol-min.js');\n}\n\nvar viewer_17528862880268931 = null;\nvar warn = document.getElementById(\"3dmolwarning_17528862880268931\");\nif(warn) {\n    warn.parentNode.removeChild(warn);\n}\n$3Dmolpromise.then(function() {\nviewer_17528862880268931 = $3Dmol.createViewer(document.getElementById(\"3dmolviewer_17528862880268931\"),{backgroundColor:\"white\"});\nviewer_17528862880268931.zoomTo();\n\tviewer_17528862880268931.addModel(\"REMARK static_polarizability 359.27161899899994\\nHETATM    1  C1  UNL     1      -3.381   0.652  -1.503  1.00  0.00           C  \\nHETATM    2  C2  UNL     1      -2.733   0.662  -0.128  1.00  0.00           C  \\nHETATM    3  C3  UNL     1      -1.246   1.015  -0.162  1.00  0.00           C  \\nHETATM    4  C4  UNL     1      -0.976   2.461  -0.577  1.00  0.00           C  \\nHETATM    5  N1  UNL     1       0.476   2.750  -0.403  1.00  0.00           N  \\nHETATM    6  C5  UNL     1       1.298   2.365  -1.590  1.00  0.00           C  \\nHETATM    7  C6  UNL     1       2.418   1.409  -1.170  1.00  0.00           C  \\nHETATM    8  O1  UNL     1       3.302   1.112  -2.266  1.00  0.00           O  \\nHETATM    9  C7  UNL     1       2.838   0.199  -3.160  1.00  0.00           C  \\nHETATM   10  O2  UNL     1       1.728  -0.312  -3.124  1.00  0.00           O  \\nHETATM   11  C8  UNL     1       3.910  -0.123  -4.189  1.00  0.00           C  \\nHETATM   12  C9  UNL     1       3.241  -0.421  -5.534  1.00  0.00           C  \\nHETATM   13  H1  UNL     1       2.616   0.423  -5.849  1.00  0.00           H  \\nHETATM   14  S1  UNL     1       0.879   4.264   0.298  1.00  0.00           S  \\nHETATM   15  O3  UNL     1       0.061   5.249  -0.382  1.00  0.00           O  \\nHETATM   16  O4  UNL     1       2.327   4.352   0.238  1.00  0.00           O  \\nHETATM   17  C10 UNL     1       0.361   4.073   2.046  1.00  0.00           C  \\nHETATM   18  F1  UNL     1       1.079   3.089   2.663  1.00  0.00           F  \\nHETATM   19  F2  UNL     1      -0.948   3.691   2.137  1.00  0.00           F  \\nHETATM   20  C11 UNL     1       0.562   5.395   2.745  1.00  0.00           C  \\nHETATM   21  F3  UNL     1      -0.336   6.312   2.285  1.00  0.00           F  \\nHETATM   22  F4  UNL     1       1.793   5.913   2.457  1.00  0.00           F  \\nHETATM   23  C12 UNL     1       0.454   5.307   4.260  1.00  0.00           C  \\nHETATM   24  F5  UNL     1       1.471   4.546   4.753  1.00  0.00           F  \\nHETATM   25  F6  UNL     1       0.668   6.562   4.759  1.00  0.00           F  \\nHETATM   26  C13 UNL     1      -0.873   4.774   4.777  1.00  0.00           C  \\nHETATM   27  F7  UNL     1      -1.903   5.430   4.188  1.00  0.00           F  \\nHETATM   28  F8  UNL     1      -0.993   3.469   4.419  1.00  0.00           F  \\nHETATM   29  C14 UNL     1      -0.980   4.876   6.288  1.00  0.00           C  \\nHETATM   30  F9  UNL     1      -0.031   4.086   6.865  1.00  0.00           F  \\nHETATM   31  F10 UNL     1      -0.681   6.149   6.688  1.00  0.00           F  \\nHETATM   32  C15 UNL     1      -2.347   4.532   6.848  1.00  0.00           C  \\nHETATM   33  F11 UNL     1      -2.301   4.675   8.211  1.00  0.00           F  \\nHETATM   34  F12 UNL     1      -3.269   5.447   6.424  1.00  0.00           F  \\nHETATM   35  C16 UNL     1      -2.814   3.131   6.507  1.00  0.00           C  \\nHETATM   36  F13 UNL     1      -1.892   2.195   6.823  1.00  0.00           F  \\nHETATM   37  F14 UNL     1      -3.951   2.814   7.172  1.00  0.00           F  \\nHETATM   38  F15 UNL     1      -3.096   2.997   5.191  1.00  0.00           F  \\nHETATM   39  H2  UNL     1      -3.383   1.649  -1.953  1.00  0.00           H  \\nHETATM   40  H3  UNL     1      -2.858  -0.032  -2.179  1.00  0.00           H  \\nHETATM   41  H4  UNL     1      -4.422   0.320  -1.426  1.00  0.00           H  \\nHETATM   42  H5  UNL     1      -2.841  -0.334   0.318  1.00  0.00           H  \\nHETATM   43  H6  UNL     1      -3.269   1.360   0.525  1.00  0.00           H  \\nHETATM   44  H7  UNL     1      -0.830   0.847   0.839  1.00  0.00           H  \\nHETATM   45  H8  UNL     1      -0.720   0.328  -0.836  1.00  0.00           H  \\nHETATM   46  H9  UNL     1      -1.274   2.642  -1.615  1.00  0.00           H  \\nHETATM   47  H10 UNL     1      -1.584   3.130   0.039  1.00  0.00           H  \\nHETATM   48  H11 UNL     1       0.675   1.893  -2.357  1.00  0.00           H  \\nHETATM   49  H12 UNL     1       1.717   3.251  -2.082  1.00  0.00           H  \\nHETATM   50  H13 UNL     1       2.015   0.482  -0.744  1.00  0.00           H  \\nHETATM   51  H14 UNL     1       3.035   1.862  -0.386  1.00  0.00           H  \\nHETATM   52  H15 UNL     1       4.515   0.781  -4.343  1.00  0.00           H  \\nHETATM   53  H16 UNL     1       2.595  -1.304  -5.485  1.00  0.00           H  \\nHETATM   54  H17 UNL     1       3.991  -0.591  -6.313  1.00  0.00           H  \\nHETATM   55  C17 UNL     1       2.406  -7.014   0.260  1.00  0.00           C  \\nHETATM   56  C18 UNL     1       2.477  -7.063   1.776  1.00  0.00           C  \\nHETATM   57  C19 UNL     1       1.744  -5.919   2.484  1.00  0.00           C  \\nHETATM   58  C20 UNL     1       2.357  -4.535   2.263  1.00  0.00           C  \\nHETATM   59  N2  UNL     1       1.914  -3.924   0.978  1.00  0.00           N  \\nHETATM   60  C21 UNL     1       2.984  -3.150   0.275  1.00  0.00           C  \\nHETATM   61  C22 UNL     1       2.855  -3.197  -1.247  1.00  0.00           C  \\nHETATM   62  O5  UNL     1       3.835  -2.313  -1.813  1.00  0.00           O  \\nHETATM   63  C23 UNL     1       3.992  -2.431  -3.159  1.00  0.00           C  \\nHETATM   64  O6  UNL     1       3.485  -3.303  -3.850  1.00  0.00           O  \\nHETATM   65  C24 UNL     1       4.814  -1.285  -3.731  1.00  0.00           C  \\nHETATM   66  C25 UNL     1       5.904  -0.818  -2.760  1.00  0.00           C  \\nHETATM   67  H18 UNL     1       5.489  -0.362  -1.856  1.00  0.00           H  \\nHETATM   68  S2  UNL     1       0.331  -3.221   0.962  1.00  0.00           S  \\nHETATM   69  O7  UNL     1      -0.241  -3.417   2.281  1.00  0.00           O  \\nHETATM   70  O8  UNL     1       0.483  -1.878   0.438  1.00  0.00           O  \\nHETATM   71  C26 UNL     1      -0.567  -4.276  -0.239  1.00  0.00           C  \\nHETATM   72  F16 UNL     1       0.172  -4.479  -1.368  1.00  0.00           F  \\nHETATM   73  F17 UNL     1      -0.789  -5.521   0.282  1.00  0.00           F  \\nHETATM   74  C27 UNL     1      -1.879  -3.595  -0.561  1.00  0.00           C  \\nHETATM   75  F18 UNL     1      -1.675  -2.394  -1.161  1.00  0.00           F  \\nHETATM   76  F19 UNL     1      -2.573  -3.340   0.580  1.00  0.00           F  \\nHETATM   77  C28 UNL     1      -2.717  -4.471  -1.468  1.00  0.00           C  \\nHETATM   78  F20 UNL     1      -3.089  -5.600  -0.800  1.00  0.00           F  \\nHETATM   79  F21 UNL     1      -1.953  -4.909  -2.514  1.00  0.00           F  \\nHETATM   80  C29 UNL     1      -3.950  -3.792  -2.051  1.00  0.00           C  \\nHETATM   81  F22 UNL     1      -3.568  -2.774  -2.874  1.00  0.00           F  \\nHETATM   82  F23 UNL     1      -4.575  -4.697  -2.865  1.00  0.00           F  \\nHETATM   83  C30 UNL     1      -4.939  -3.273  -1.025  1.00  0.00           C  \\nHETATM   84  F24 UNL     1      -4.378  -2.249  -0.332  1.00  0.00           F  \\nHETATM   85  F25 UNL     1      -5.207  -4.244  -0.113  1.00  0.00           F  \\nHETATM   86  C31 UNL     1      -6.215  -2.799  -1.684  1.00  0.00           C  \\nHETATM   87  F26 UNL     1      -5.941  -1.847  -2.621  1.00  0.00           F  \\nHETATM   88  F27 UNL     1      -6.819  -3.821  -2.353  1.00  0.00           F  \\nHETATM   89  C32 UNL     1      -7.154  -2.240  -0.634  1.00  0.00           C  \\nHETATM   90  F28 UNL     1      -6.622  -1.181   0.019  1.00  0.00           F  \\nHETATM   91  F29 UNL     1      -7.485  -3.161   0.301  1.00  0.00           F  \\nHETATM   92  F30 UNL     1      -8.315  -1.811  -1.189  1.00  0.00           F  \\nHETATM   93  H19 UNL     1       1.374  -6.922  -0.088  1.00  0.00           H  \\nHETATM   94  H20 UNL     1       2.824  -7.934  -0.163  1.00  0.00           H  \\nHETATM   95  H21 UNL     1       2.989  -6.181  -0.138  1.00  0.00           H  \\nHETATM   96  H22 UNL     1       3.527  -7.083   2.091  1.00  0.00           H  \\nHETATM   97  H23 UNL     1       2.034  -8.010   2.111  1.00  0.00           H  \\nHETATM   98  H24 UNL     1       1.788  -6.130   3.560  1.00  0.00           H  \\nHETATM   99  H25 UNL     1       0.684  -5.939   2.212  1.00  0.00           H  \\nHETATM  100  H26 UNL     1       3.449  -4.620   2.298  1.00  0.00           H  \\nHETATM  101  H27 UNL     1       2.092  -3.864   3.089  1.00  0.00           H  \\nHETATM  102  H28 UNL     1       3.006  -2.117   0.641  1.00  0.00           H  \\nHETATM  103  H29 UNL     1       3.970  -3.557   0.530  1.00  0.00           H  \\nHETATM  104  H30 UNL     1       3.010  -4.224  -1.598  1.00  0.00           H  \\nHETATM  105  H31 UNL     1       1.871  -2.853  -1.574  1.00  0.00           H  \\nHETATM  106  H32 UNL     1       5.347  -1.695  -4.600  1.00  0.00           H  \\nHETATM  107  H33 UNL     1       6.526  -1.663  -2.445  1.00  0.00           H  \\nHETATM  108  H34 UNL     1       6.556  -0.081  -3.240  1.00  0.00           H  \\nCONECT    1    2   39   40   41\\nCONECT    2    3   42   43\\nCONECT    3    4   44   45\\nCONECT    4    5   46   47\\nCONECT    5    6   14\\nCONECT    6    7   48   49\\nCONECT    7    8   50   51\\nCONECT    8    9\\nCONECT    9   10   10   11\\nCONECT   11   12   52   65\\nCONECT   12   13   53   54\\nCONECT   14   15   15   16   16\\nCONECT   14   17\\nCONECT   17   18   19   20\\nCONECT   20   21   22   23\\nCONECT   23   24   25   26\\nCONECT   26   27   28   29\\nCONECT   29   30   31   32\\nCONECT   32   33   34   35\\nCONECT   35   36   37   38\\nCONECT   55   56   93   94   95\\nCONECT   56   57   96   97\\nCONECT   57   58   98   99\\nCONECT   58   59  100  101\\nCONECT   59   60   68\\nCONECT   60   61  102  103\\nCONECT   61   62  104  105\\nCONECT   62   63\\nCONECT   63   64   64   65\\nCONECT   65   66  106\\nCONECT   66   67  107  108\\nCONECT   68   69   69   70   70\\nCONECT   68   71\\nCONECT   71   72   73   74\\nCONECT   74   75   76   77\\nCONECT   77   78   79   80\\nCONECT   80   81   82   83\\nCONECT   83   84   85   86\\nCONECT   86   87   88   89\\nCONECT   89   90   91   92\\nEND\\n\",\"pdb\");\n\tviewer_17528862880268931.setStyle({},{\"sphere\": {\"scale\": 0.25}, \"stick\": {}});\n\tviewer_17528862880268931.zoomTo();\nviewer_17528862880268931.render();\n});\n</script>",
      "text/html": [
       "<div id=\"3dmolviewer_17528862880268931\"  style=\"position: relative; width: 300px; height: 300px;\">\n",
       "        <p id=\"3dmolwarning_17528862880268931\" style=\"background-color:#ffcccc;color:black\">3Dmol.js failed to load for some reason.  Please check your browser console for error messages.<br></p>\n",
       "        </div>\n",
       "<script>\n",
       "\n",
       "var loadScriptAsync = function(uri){\n",
       "  return new Promise((resolve, reject) => {\n",
       "    //this is to ignore the existence of requirejs amd\n",
       "    var savedexports, savedmodule;\n",
       "    if (typeof exports !== 'undefined') savedexports = exports;\n",
       "    else exports = {}\n",
       "    if (typeof module !== 'undefined') savedmodule = module;\n",
       "    else module = {}\n",
       "\n",
       "    var tag = document.createElement('script');\n",
       "    tag.src = uri;\n",
       "    tag.async = true;\n",
       "    tag.onload = () => {\n",
       "        exports = savedexports;\n",
       "        module = savedmodule;\n",
       "        resolve();\n",
       "    };\n",
       "  var firstScriptTag = document.getElementsByTagName('script')[0];\n",
       "  firstScriptTag.parentNode.insertBefore(tag, firstScriptTag);\n",
       "});\n",
       "};\n",
       "\n",
       "if(typeof $3Dmolpromise === 'undefined') {\n",
       "$3Dmolpromise = null;\n",
       "  $3Dmolpromise = loadScriptAsync('https://cdn.jsdelivr.net/npm/3dmol@2.5.1/build/3Dmol-min.js');\n",
       "}\n",
       "\n",
       "var viewer_17528862880268931 = null;\n",
       "var warn = document.getElementById(\"3dmolwarning_17528862880268931\");\n",
       "if(warn) {\n",
       "    warn.parentNode.removeChild(warn);\n",
       "}\n",
       "$3Dmolpromise.then(function() {\n",
       "viewer_17528862880268931 = $3Dmol.createViewer(document.getElementById(\"3dmolviewer_17528862880268931\"),{backgroundColor:\"white\"});\n",
       "viewer_17528862880268931.zoomTo();\n",
       "\tviewer_17528862880268931.addModel(\"REMARK static_polarizability 359.27161899899994\\nHETATM    1  C1  UNL     1      -3.381   0.652  -1.503  1.00  0.00           C  \\nHETATM    2  C2  UNL     1      -2.733   0.662  -0.128  1.00  0.00           C  \\nHETATM    3  C3  UNL     1      -1.246   1.015  -0.162  1.00  0.00           C  \\nHETATM    4  C4  UNL     1      -0.976   2.461  -0.577  1.00  0.00           C  \\nHETATM    5  N1  UNL     1       0.476   2.750  -0.403  1.00  0.00           N  \\nHETATM    6  C5  UNL     1       1.298   2.365  -1.590  1.00  0.00           C  \\nHETATM    7  C6  UNL     1       2.418   1.409  -1.170  1.00  0.00           C  \\nHETATM    8  O1  UNL     1       3.302   1.112  -2.266  1.00  0.00           O  \\nHETATM    9  C7  UNL     1       2.838   0.199  -3.160  1.00  0.00           C  \\nHETATM   10  O2  UNL     1       1.728  -0.312  -3.124  1.00  0.00           O  \\nHETATM   11  C8  UNL     1       3.910  -0.123  -4.189  1.00  0.00           C  \\nHETATM   12  C9  UNL     1       3.241  -0.421  -5.534  1.00  0.00           C  \\nHETATM   13  H1  UNL     1       2.616   0.423  -5.849  1.00  0.00           H  \\nHETATM   14  S1  UNL     1       0.879   4.264   0.298  1.00  0.00           S  \\nHETATM   15  O3  UNL     1       0.061   5.249  -0.382  1.00  0.00           O  \\nHETATM   16  O4  UNL     1       2.327   4.352   0.238  1.00  0.00           O  \\nHETATM   17  C10 UNL     1       0.361   4.073   2.046  1.00  0.00           C  \\nHETATM   18  F1  UNL     1       1.079   3.089   2.663  1.00  0.00           F  \\nHETATM   19  F2  UNL     1      -0.948   3.691   2.137  1.00  0.00           F  \\nHETATM   20  C11 UNL     1       0.562   5.395   2.745  1.00  0.00           C  \\nHETATM   21  F3  UNL     1      -0.336   6.312   2.285  1.00  0.00           F  \\nHETATM   22  F4  UNL     1       1.793   5.913   2.457  1.00  0.00           F  \\nHETATM   23  C12 UNL     1       0.454   5.307   4.260  1.00  0.00           C  \\nHETATM   24  F5  UNL     1       1.471   4.546   4.753  1.00  0.00           F  \\nHETATM   25  F6  UNL     1       0.668   6.562   4.759  1.00  0.00           F  \\nHETATM   26  C13 UNL     1      -0.873   4.774   4.777  1.00  0.00           C  \\nHETATM   27  F7  UNL     1      -1.903   5.430   4.188  1.00  0.00           F  \\nHETATM   28  F8  UNL     1      -0.993   3.469   4.419  1.00  0.00           F  \\nHETATM   29  C14 UNL     1      -0.980   4.876   6.288  1.00  0.00           C  \\nHETATM   30  F9  UNL     1      -0.031   4.086   6.865  1.00  0.00           F  \\nHETATM   31  F10 UNL     1      -0.681   6.149   6.688  1.00  0.00           F  \\nHETATM   32  C15 UNL     1      -2.347   4.532   6.848  1.00  0.00           C  \\nHETATM   33  F11 UNL     1      -2.301   4.675   8.211  1.00  0.00           F  \\nHETATM   34  F12 UNL     1      -3.269   5.447   6.424  1.00  0.00           F  \\nHETATM   35  C16 UNL     1      -2.814   3.131   6.507  1.00  0.00           C  \\nHETATM   36  F13 UNL     1      -1.892   2.195   6.823  1.00  0.00           F  \\nHETATM   37  F14 UNL     1      -3.951   2.814   7.172  1.00  0.00           F  \\nHETATM   38  F15 UNL     1      -3.096   2.997   5.191  1.00  0.00           F  \\nHETATM   39  H2  UNL     1      -3.383   1.649  -1.953  1.00  0.00           H  \\nHETATM   40  H3  UNL     1      -2.858  -0.032  -2.179  1.00  0.00           H  \\nHETATM   41  H4  UNL     1      -4.422   0.320  -1.426  1.00  0.00           H  \\nHETATM   42  H5  UNL     1      -2.841  -0.334   0.318  1.00  0.00           H  \\nHETATM   43  H6  UNL     1      -3.269   1.360   0.525  1.00  0.00           H  \\nHETATM   44  H7  UNL     1      -0.830   0.847   0.839  1.00  0.00           H  \\nHETATM   45  H8  UNL     1      -0.720   0.328  -0.836  1.00  0.00           H  \\nHETATM   46  H9  UNL     1      -1.274   2.642  -1.615  1.00  0.00           H  \\nHETATM   47  H10 UNL     1      -1.584   3.130   0.039  1.00  0.00           H  \\nHETATM   48  H11 UNL     1       0.675   1.893  -2.357  1.00  0.00           H  \\nHETATM   49  H12 UNL     1       1.717   3.251  -2.082  1.00  0.00           H  \\nHETATM   50  H13 UNL     1       2.015   0.482  -0.744  1.00  0.00           H  \\nHETATM   51  H14 UNL     1       3.035   1.862  -0.386  1.00  0.00           H  \\nHETATM   52  H15 UNL     1       4.515   0.781  -4.343  1.00  0.00           H  \\nHETATM   53  H16 UNL     1       2.595  -1.304  -5.485  1.00  0.00           H  \\nHETATM   54  H17 UNL     1       3.991  -0.591  -6.313  1.00  0.00           H  \\nHETATM   55  C17 UNL     1       2.406  -7.014   0.260  1.00  0.00           C  \\nHETATM   56  C18 UNL     1       2.477  -7.063   1.776  1.00  0.00           C  \\nHETATM   57  C19 UNL     1       1.744  -5.919   2.484  1.00  0.00           C  \\nHETATM   58  C20 UNL     1       2.357  -4.535   2.263  1.00  0.00           C  \\nHETATM   59  N2  UNL     1       1.914  -3.924   0.978  1.00  0.00           N  \\nHETATM   60  C21 UNL     1       2.984  -3.150   0.275  1.00  0.00           C  \\nHETATM   61  C22 UNL     1       2.855  -3.197  -1.247  1.00  0.00           C  \\nHETATM   62  O5  UNL     1       3.835  -2.313  -1.813  1.00  0.00           O  \\nHETATM   63  C23 UNL     1       3.992  -2.431  -3.159  1.00  0.00           C  \\nHETATM   64  O6  UNL     1       3.485  -3.303  -3.850  1.00  0.00           O  \\nHETATM   65  C24 UNL     1       4.814  -1.285  -3.731  1.00  0.00           C  \\nHETATM   66  C25 UNL     1       5.904  -0.818  -2.760  1.00  0.00           C  \\nHETATM   67  H18 UNL     1       5.489  -0.362  -1.856  1.00  0.00           H  \\nHETATM   68  S2  UNL     1       0.331  -3.221   0.962  1.00  0.00           S  \\nHETATM   69  O7  UNL     1      -0.241  -3.417   2.281  1.00  0.00           O  \\nHETATM   70  O8  UNL     1       0.483  -1.878   0.438  1.00  0.00           O  \\nHETATM   71  C26 UNL     1      -0.567  -4.276  -0.239  1.00  0.00           C  \\nHETATM   72  F16 UNL     1       0.172  -4.479  -1.368  1.00  0.00           F  \\nHETATM   73  F17 UNL     1      -0.789  -5.521   0.282  1.00  0.00           F  \\nHETATM   74  C27 UNL     1      -1.879  -3.595  -0.561  1.00  0.00           C  \\nHETATM   75  F18 UNL     1      -1.675  -2.394  -1.161  1.00  0.00           F  \\nHETATM   76  F19 UNL     1      -2.573  -3.340   0.580  1.00  0.00           F  \\nHETATM   77  C28 UNL     1      -2.717  -4.471  -1.468  1.00  0.00           C  \\nHETATM   78  F20 UNL     1      -3.089  -5.600  -0.800  1.00  0.00           F  \\nHETATM   79  F21 UNL     1      -1.953  -4.909  -2.514  1.00  0.00           F  \\nHETATM   80  C29 UNL     1      -3.950  -3.792  -2.051  1.00  0.00           C  \\nHETATM   81  F22 UNL     1      -3.568  -2.774  -2.874  1.00  0.00           F  \\nHETATM   82  F23 UNL     1      -4.575  -4.697  -2.865  1.00  0.00           F  \\nHETATM   83  C30 UNL     1      -4.939  -3.273  -1.025  1.00  0.00           C  \\nHETATM   84  F24 UNL     1      -4.378  -2.249  -0.332  1.00  0.00           F  \\nHETATM   85  F25 UNL     1      -5.207  -4.244  -0.113  1.00  0.00           F  \\nHETATM   86  C31 UNL     1      -6.215  -2.799  -1.684  1.00  0.00           C  \\nHETATM   87  F26 UNL     1      -5.941  -1.847  -2.621  1.00  0.00           F  \\nHETATM   88  F27 UNL     1      -6.819  -3.821  -2.353  1.00  0.00           F  \\nHETATM   89  C32 UNL     1      -7.154  -2.240  -0.634  1.00  0.00           C  \\nHETATM   90  F28 UNL     1      -6.622  -1.181   0.019  1.00  0.00           F  \\nHETATM   91  F29 UNL     1      -7.485  -3.161   0.301  1.00  0.00           F  \\nHETATM   92  F30 UNL     1      -8.315  -1.811  -1.189  1.00  0.00           F  \\nHETATM   93  H19 UNL     1       1.374  -6.922  -0.088  1.00  0.00           H  \\nHETATM   94  H20 UNL     1       2.824  -7.934  -0.163  1.00  0.00           H  \\nHETATM   95  H21 UNL     1       2.989  -6.181  -0.138  1.00  0.00           H  \\nHETATM   96  H22 UNL     1       3.527  -7.083   2.091  1.00  0.00           H  \\nHETATM   97  H23 UNL     1       2.034  -8.010   2.111  1.00  0.00           H  \\nHETATM   98  H24 UNL     1       1.788  -6.130   3.560  1.00  0.00           H  \\nHETATM   99  H25 UNL     1       0.684  -5.939   2.212  1.00  0.00           H  \\nHETATM  100  H26 UNL     1       3.449  -4.620   2.298  1.00  0.00           H  \\nHETATM  101  H27 UNL     1       2.092  -3.864   3.089  1.00  0.00           H  \\nHETATM  102  H28 UNL     1       3.006  -2.117   0.641  1.00  0.00           H  \\nHETATM  103  H29 UNL     1       3.970  -3.557   0.530  1.00  0.00           H  \\nHETATM  104  H30 UNL     1       3.010  -4.224  -1.598  1.00  0.00           H  \\nHETATM  105  H31 UNL     1       1.871  -2.853  -1.574  1.00  0.00           H  \\nHETATM  106  H32 UNL     1       5.347  -1.695  -4.600  1.00  0.00           H  \\nHETATM  107  H33 UNL     1       6.526  -1.663  -2.445  1.00  0.00           H  \\nHETATM  108  H34 UNL     1       6.556  -0.081  -3.240  1.00  0.00           H  \\nCONECT    1    2   39   40   41\\nCONECT    2    3   42   43\\nCONECT    3    4   44   45\\nCONECT    4    5   46   47\\nCONECT    5    6   14\\nCONECT    6    7   48   49\\nCONECT    7    8   50   51\\nCONECT    8    9\\nCONECT    9   10   10   11\\nCONECT   11   12   52   65\\nCONECT   12   13   53   54\\nCONECT   14   15   15   16   16\\nCONECT   14   17\\nCONECT   17   18   19   20\\nCONECT   20   21   22   23\\nCONECT   23   24   25   26\\nCONECT   26   27   28   29\\nCONECT   29   30   31   32\\nCONECT   32   33   34   35\\nCONECT   35   36   37   38\\nCONECT   55   56   93   94   95\\nCONECT   56   57   96   97\\nCONECT   57   58   98   99\\nCONECT   58   59  100  101\\nCONECT   59   60   68\\nCONECT   60   61  102  103\\nCONECT   61   62  104  105\\nCONECT   62   63\\nCONECT   63   64   64   65\\nCONECT   65   66  106\\nCONECT   66   67  107  108\\nCONECT   68   69   69   70   70\\nCONECT   68   71\\nCONECT   71   72   73   74\\nCONECT   74   75   76   77\\nCONECT   77   78   79   80\\nCONECT   80   81   82   83\\nCONECT   83   84   85   86\\nCONECT   86   87   88   89\\nCONECT   89   90   91   92\\nEND\\n\",\"pdb\");\n",
       "\tviewer_17528862880268931.setStyle({},{\"sphere\": {\"scale\": 0.25}, \"stick\": {}});\n",
       "\tviewer_17528862880268931.zoomTo();\n",
       "viewer_17528862880268931.render();\n",
       "});\n",
       "</script>"
      ]
     },
     "metadata": {},
     "output_type": "display_data"
    }
   ],
   "source": [
    "import py3Dmol\n",
    "\n",
    "text = 'xyz_files/homopoly_109997_chain_1.pdb'\n",
    "viewer = py3Dmol.view(width=300, height=300)\n",
    "\n",
    "with open(text, 'r') as pdb_file:\n",
    "    pdb_data = pdb_file.read()\n",
    "\n",
    "viewer.addModel(pdb_data, 'pdb')\n",
    "viewer.setStyle({}, {'sphere': {'scale': 0.25}, 'stick': {}})\n",
    "viewer.zoomTo()\n",
    "viewer.show()"
   ]
  },
  {
   "cell_type": "markdown",
   "id": "cdff5ac9",
   "metadata": {},
   "source": [
    "# 2D images of connectivity and node features"
   ]
  },
  {
   "cell_type": "code",
   "execution_count": 2,
   "id": "0613bccd",
   "metadata": {},
   "outputs": [
    {
     "name": "stdout",
     "output_type": "stream",
     "text": [
      "Reading training data.\n"
     ]
    },
    {
     "name": "stderr",
     "output_type": "stream",
     "text": [
      "8665it [00:02, 3162.52it/s]\n"
     ]
    }
   ],
   "source": [
    "import pandas as pd\n",
    "import torch\n",
    "from tqdm import tqdm\n",
    "from torch_geometric.data import Data\n",
    "\n",
    "def read_train_data(data: pd.DataFrame):\n",
    "    training_dataset = []\n",
    "\n",
    "    print(f'Reading training data.')\n",
    "    for row in tqdm(data.itertuples()):\n",
    "        try:\n",
    "            training_dataset.append(torch.load(f'../polygraphpy/data/training_input_data/{row.id}_{row.chain_size}.pt', weights_only=False))\n",
    "        except Exception as e:\n",
    "            pass\n",
    "    \n",
    "    input_dim : int = training_dataset[0].x.shape[1] if training_dataset else 0\n",
    "\n",
    "    return training_dataset, input_dim\n",
    "\n",
    "def pad_graphs(dataset):\n",
    "    max_nodes = max(data.x.shape[0] for data in dataset)\n",
    "    feature_dim = dataset[0].x.shape[1]\n",
    "    max_edges = max(data.edge_index.shape[1] for data in dataset)\n",
    "\n",
    "    padded_dataset = []\n",
    "    for data in dataset:\n",
    "        num_nodes = data.x.shape[0]\n",
    "        num_edges = data.edge_index.shape[1]\n",
    "\n",
    "        x_padded = torch.zeros((max_nodes, feature_dim))\n",
    "        x_padded[:num_nodes] = data.x\n",
    "\n",
    "        edge_index_padded = torch.full((2, max_edges), fill_value=-1, dtype=torch.long)  # use -1 as invalid edge\n",
    "        edge_index_padded[:, :num_edges] = data.edge_index\n",
    "\n",
    "        node_mask = torch.zeros(max_nodes, dtype=torch.bool)\n",
    "        node_mask[:num_nodes] = 1\n",
    "\n",
    "        edge_mask = torch.zeros(max_edges, dtype=torch.bool)\n",
    "        edge_mask[:num_edges] = 1\n",
    "\n",
    "        padded_data = Data(\n",
    "            x=x_padded,\n",
    "            edge_index=edge_index_padded,\n",
    "            y=getattr(data, 'y', None),\n",
    "            node_mask=node_mask,\n",
    "            edge_mask=edge_mask,\n",
    "            id = getattr(data, 'mol_id', None),\n",
    "            chain_size = getattr(data, 'chain_size', None),\n",
    "        )\n",
    "\n",
    "        padded_dataset.append(padded_data)\n",
    "\n",
    "    return padded_dataset\n",
    "\n",
    "def get_adjacency_matrix(edge_index: torch.Tensor, num_nodes: int, edge_mask: torch.Tensor = None):\n",
    "    adj = torch.zeros((num_nodes, num_nodes), dtype=torch.float)\n",
    "\n",
    "    if edge_mask is not None:\n",
    "        edge_index = edge_index[:, edge_mask]\n",
    "\n",
    "    valid = (edge_index[0] >= 0) & (edge_index[1] >= 0)\n",
    "    edge_index = edge_index[:, valid]\n",
    "\n",
    "    adj[edge_index[0], edge_index[1]] = 1.0\n",
    "\n",
    "    return adj\n",
    "\n",
    "df = pd.read_csv('../polygraphpy/data/polarizability_data.csv')\n",
    "df = df[df['chain_size'] == 2]\n",
    "training_dataset, NODE_FEATURE_DIM = read_train_data(df)\n",
    "padded_dataset = pad_graphs(training_dataset)\n",
    "\n",
    "node_size = [data.x.shape[0] for data in training_dataset]\n",
    "max_node = max(node_size)\n",
    "max_node_idx = node_size.index(max_node)"
   ]
  },
  {
   "cell_type": "code",
   "execution_count": 3,
   "id": "125ff3f8",
   "metadata": {},
   "outputs": [
    {
     "name": "stderr",
     "output_type": "stream",
     "text": [
      "100%|██████████| 7360/7360 [01:01<00:00, 119.75it/s]\n"
     ]
    }
   ],
   "source": [
    "import matplotlib.pyplot as plt\n",
    "\n",
    "id = max_node_idx\n",
    "\n",
    "df = pd.DataFrame()\n",
    "\n",
    "for data in tqdm(padded_dataset):\n",
    "    padded_data = data\n",
    "    adj = get_adjacency_matrix(\n",
    "        edge_index=padded_data.edge_index,\n",
    "        num_nodes=padded_data.x.shape[0],\n",
    "        edge_mask=getattr(padded_data, 'edge_mask', None)\n",
    "    )\n",
    "    x = padded_data.x.numpy()\n",
    "\n",
    "    desired_width_pixels = adj.shape[0]\n",
    "    desired_height_pixels = adj.shape[0]\n",
    "    dpi = 100\n",
    "\n",
    "    figsize_width = desired_width_pixels / dpi\n",
    "    figsize_height = desired_height_pixels / dpi\n",
    "\n",
    "    string = f'adj_{int(padded_data.id.numpy()[0])}_chainsize_{int(padded_data.chain_size.numpy()[0])}'\n",
    "    y = padded_data.y.numpy()[0]\n",
    "\n",
    "    df = pd.concat([df, pd.DataFrame({'string': string, 'polarizability': y}, index=[0])]).reset_index(drop=True)\n",
    "\n",
    "    plt.figure(figsize=(figsize_width, figsize_height))\n",
    "    plt.imshow(adj, cmap='Greys')\n",
    "    plt.axis('off')\n",
    "    plt.savefig(f'images/{string}.png', bbox_inches='tight', pad_inches=0, dpi=dpi)\n",
    "    plt.close()\n",
    "\n",
    "df.to_csv('input.csv', index=False)"
   ]
  }
 ],
 "metadata": {
  "kernelspec": {
   "display_name": ".venv",
   "language": "python",
   "name": "python3"
  },
  "language_info": {
   "codemirror_mode": {
    "name": "ipython",
    "version": 3
   },
   "file_extension": ".py",
   "mimetype": "text/x-python",
   "name": "python",
   "nbconvert_exporter": "python",
   "pygments_lexer": "ipython3",
   "version": "3.13.2"
  }
 },
 "nbformat": 4,
 "nbformat_minor": 5
}
