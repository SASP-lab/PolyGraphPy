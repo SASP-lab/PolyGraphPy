{
 "cells": [
  {
   "cell_type": "markdown",
   "id": "9e7bc164",
   "metadata": {},
   "source": [
    "# Test"
   ]
  },
  {
   "cell_type": "markdown",
   "id": "2a16eba2",
   "metadata": {},
   "source": [
    "## dataset generation"
   ]
  },
  {
   "cell_type": "code",
   "execution_count": null,
   "id": "e0d6a909",
   "metadata": {},
   "outputs": [],
   "source": [
    "import pandas as pd\n",
    "import torch\n",
    "from tqdm import tqdm\n",
    "from torch_geometric.data import Data\n",
    "\n",
    "def read_train_data(data: pd.DataFrame):\n",
    "    training_dataset = []\n",
    "\n",
    "    print(f'Reading training data.')\n",
    "    for row in tqdm(data.itertuples()):\n",
    "        try:\n",
    "            training_dataset.append(torch.load(f'../polygraphpy/data/training_input_data/{row.id}_{row.chain_size}.pt', weights_only=False))\n",
    "        except Exception as e:\n",
    "            pass\n",
    "    \n",
    "    input_dim : int = training_dataset[0].x.shape[1] if training_dataset else 0\n",
    "\n",
    "    return training_dataset, input_dim\n",
    "\n",
    "def pad_graphs(dataset):\n",
    "    max_nodes = max(data.x.shape[0] for data in dataset)\n",
    "    feature_dim = dataset[0].x.shape[1]\n",
    "    max_edges = max(data.edge_index.shape[1] for data in dataset)\n",
    "\n",
    "    padded_dataset = []\n",
    "    for data in dataset:\n",
    "        num_nodes = data.x.shape[0]\n",
    "        num_edges = data.edge_index.shape[1]\n",
    "\n",
    "        x_padded = torch.zeros((max_nodes, feature_dim))\n",
    "        x_padded[:num_nodes] = data.x\n",
    "\n",
    "        edge_index_padded = torch.full((2, max_edges), fill_value=-1, dtype=torch.long)  # use -1 as invalid edge\n",
    "        edge_index_padded[:, :num_edges] = data.edge_index\n",
    "\n",
    "        node_mask = torch.zeros(max_nodes, dtype=torch.bool)\n",
    "        node_mask[:num_nodes] = 1\n",
    "\n",
    "        edge_mask = torch.zeros(max_edges, dtype=torch.bool)\n",
    "        edge_mask[:num_edges] = 1\n",
    "\n",
    "        padded_data = Data(\n",
    "            x=x_padded,\n",
    "            edge_index=edge_index_padded,\n",
    "            y=getattr(data, 'y', None),\n",
    "            node_mask=node_mask,\n",
    "            edge_mask=edge_mask,\n",
    "            id = getattr(data, 'mol_id', None),\n",
    "            chain_size = getattr(data, 'chain_size', None),\n",
    "        )\n",
    "\n",
    "        padded_dataset.append(padded_data)\n",
    "\n",
    "    return padded_dataset\n",
    "\n",
    "def get_adjacency_matrix(edge_index: torch.Tensor, num_nodes: int, edge_mask: torch.Tensor = None):\n",
    "    adj = torch.zeros((num_nodes, num_nodes), dtype=torch.float)\n",
    "\n",
    "    if edge_mask is not None:\n",
    "        edge_index = edge_index[:, edge_mask]\n",
    "\n",
    "    valid = (edge_index[0] >= 0) & (edge_index[1] >= 0)\n",
    "    edge_index = edge_index[:, valid]\n",
    "\n",
    "    adj[edge_index[0], edge_index[1]] = 1.0\n",
    "\n",
    "    return adj\n",
    "\n",
    "df = pd.read_csv('../polygraphpy/data/polarizability_data.csv')\n",
    "df = df[df['chain_size'] == 2]\n",
    "training_dataset, NODE_FEATURE_DIM = read_train_data(df)\n",
    "padded_dataset = pad_graphs(training_dataset)\n",
    "\n",
    "node_size = [data.x.shape[0] for data in training_dataset]\n",
    "max_node = max(node_size)\n",
    "max_node_idx = node_size.index(max_node)"
   ]
  },
  {
   "cell_type": "code",
   "execution_count": null,
   "id": "007fc4b5",
   "metadata": {},
   "outputs": [],
   "source": [
    "import matplotlib.pyplot as plt\n",
    "\n",
    "id = max_node_idx\n",
    "\n",
    "df = pd.DataFrame()\n",
    "\n",
    "for data in tqdm(padded_dataset):\n",
    "    padded_data = data\n",
    "    adj = get_adjacency_matrix(\n",
    "        edge_index=padded_data.edge_index,\n",
    "        num_nodes=padded_data.x.shape[0],\n",
    "        edge_mask=getattr(padded_data, 'edge_mask', None)\n",
    "    )\n",
    "    x = padded_data.x.numpy()\n",
    "\n",
    "    desired_width_pixels = adj.shape[0]\n",
    "    desired_height_pixels = adj.shape[0]\n",
    "    dpi = 100\n",
    "\n",
    "    figsize_width = desired_width_pixels / dpi\n",
    "    figsize_height = desired_height_pixels / dpi\n",
    "\n",
    "    string = f'adj_{int(padded_data.id.numpy()[0])}_chainsize_{int(padded_data.chain_size.numpy()[0])}'\n",
    "    y = padded_data.y.numpy()[0]\n",
    "\n",
    "    df = pd.concat([df, pd.DataFrame({'string': string, 'polarizability': y}, index=[0])]).reset_index(drop=True)\n",
    "\n",
    "    plt.figure(figsize=(figsize_width, figsize_height))\n",
    "    plt.imshow(adj, cmap='Greys')\n",
    "    plt.axis('off')\n",
    "    plt.savefig(f'images/{string}.png', bbox_inches='tight', pad_inches=0, dpi=dpi)\n",
    "    plt.close()\n",
    "\n",
    "df.to_csv('input.csv', index=False)"
   ]
  },
  {
   "cell_type": "markdown",
   "id": "5e8a896f",
   "metadata": {},
   "source": [
    "## image generation"
   ]
  },
  {
   "cell_type": "code",
   "execution_count": 1,
   "id": "7c76eb3f",
   "metadata": {},
   "outputs": [
    {
     "name": "stdout",
     "output_type": "stream",
     "text": [
      "Input shape: torch.Size([8, 1, 64, 64])\n",
      "Labels: tensor([0.9684, 0.8264, 0.4396, 0.8338, 0.8630, 0.6997, 0.9617, 0.6440])\n"
     ]
    },
    {
     "data": {
      "text/plain": [
       "<matplotlib.image.AxesImage at 0x79530d3f8640>"
      ]
     },
     "execution_count": 1,
     "metadata": {},
     "output_type": "execute_result"
    },
    {
     "data": {
      "image/png": "[encoded data removed]",
      "text/plain": [
       "<Figure size 640x480 with 1 Axes>"
      ]
     },
     "metadata": {},
     "output_type": "display_data"
    }
   ],
   "source": [
    "import torch\n",
    "import torchvision\n",
    "from torch import nn\n",
    "from torch.nn import functional as F\n",
    "from torch.utils.data import DataLoader\n",
    "from diffusers import DDPMScheduler, UNet2DModel\n",
    "from matplotlib import pyplot as plt\n",
    "from tqdm.auto import tqdm\n",
    "\n",
    "import torchvision.transforms as transforms\n",
    "from torch.utils.data import Dataset\n",
    "import pandas as pd\n",
    "from PIL import Image\n",
    "import os\n",
    "\n",
    "class CustomDataset(Dataset):\n",
    "    def __init__(self, image_dir, csv_file):\n",
    "        self.image_dir = image_dir\n",
    "        self.df = pd.read_csv(csv_file)\n",
    "        self.transform = transforms.Compose([\n",
    "            transforms.ToTensor(),\n",
    "            transforms.Pad((0, 0, 7, 7), fill=1, padding_mode='constant')\n",
    "        ])\n",
    "\n",
    "    def __len__(self):\n",
    "        return len(self.df)\n",
    "\n",
    "    def __getitem__(self, idx):\n",
    "        row = self.df.iloc[idx]\n",
    "        img_name = row['string'] + '.png'\n",
    "        img_path = os.path.join(self.image_dir, img_name)\n",
    "        image = Image.open(img_path).convert('L')\n",
    "        image = self.transform(image)\n",
    "        label = row['polarizability']  # Use raw polarizability value\n",
    "        return image, torch.tensor(label, dtype=torch.float32)\n",
    "    \n",
    "# Usage:\n",
    "dataset = CustomDataset('images/', 'input.csv')\n",
    "\n",
    "train_dataloader = DataLoader(dataset, batch_size=8, shuffle=True)\n",
    "\n",
    "x, y = next(iter(train_dataloader))\n",
    "print(\"Input shape:\", x.shape)\n",
    "print(\"Labels:\", y)\n",
    "plt.imshow(torchvision.utils.make_grid(x)[0], cmap=\"Greys\")"
   ]
  },
  {
   "cell_type": "code",
   "execution_count": 2,
   "id": "1921f992",
   "metadata": {},
   "outputs": [],
   "source": [
    "class ClassConditionedUnet(nn.Module):\n",
    "    def __init__(self, class_emb_size=10):\n",
    "        super().__init__()\n",
    "        self.class_emb = nn.Linear(1, class_emb_size)  # Project scalar to embedding\n",
    "        self.model = UNet2DModel(\n",
    "            sample_size=64,\n",
    "            in_channels=1 + class_emb_size,\n",
    "            out_channels=1,\n",
    "            layers_per_block=2,\n",
    "            block_out_channels=(64, 128, 128, 256),\n",
    "            down_block_types=(\"DownBlock2D\", \"AttnDownBlock2D\", \"AttnDownBlock2D\", \"AttnDownBlock2D\"),\n",
    "            up_block_types=(\"AttnUpBlock2D\", \"AttnUpBlock2D\", \"AttnUpBlock2D\", \"UpBlock2D\"),\n",
    "        )\n",
    "\n",
    "    def forward(self, x, t, class_labels):\n",
    "        bs, ch, w, h = x.shape\n",
    "        embed = self.class_emb(class_labels.unsqueeze(-1))  # Add dimension for linear layer\n",
    "        class_cond = embed.view(bs, embed.shape[1], 1, 1).expand(bs, embed.shape[1], w, h)\n",
    "        net_input = torch.cat((x, class_cond), 1)\n",
    "        return self.model(net_input, t).sample"
   ]
  },
  {
   "cell_type": "code",
   "execution_count": 3,
   "id": "743acc3b",
   "metadata": {},
   "outputs": [],
   "source": [
    "noise_scheduler = DDPMScheduler(num_train_timesteps=1000, beta_schedule=\"squaredcos_cap_v2\")"
   ]
  },
  {
   "cell_type": "code",
   "execution_count": 4,
   "id": "5b885ca3",
   "metadata": {},
   "outputs": [
    {
     "name": "stdout",
     "output_type": "stream",
     "text": [
      "Using device: cuda\n"
     ]
    },
    {
     "data": {
      "application/vnd.jupyter.widget-view+json": {
       "model_id": "4fff8119d2df47aca5bc92f7f4c9f1ab",
       "version_major": 2,
       "version_minor": 0
      },
      "text/plain": [
       "  0%|          | 0/460 [00:00<?, ?it/s]"
      ]
     },
     "metadata": {},
     "output_type": "display_data"
    },
    {
     "name": "stdout",
     "output_type": "stream",
     "text": [
      "Finished epoch 0. Average of the last 100 loss values: 0.010628\n"
     ]
    },
    {
     "data": {
      "application/vnd.jupyter.widget-view+json": {
       "model_id": "a4c1088f68b9413abb3ef37ec7c3428e",
       "version_major": 2,
       "version_minor": 0
      },
      "text/plain": [
       "  0%|          | 0/460 [00:00<?, ?it/s]"
      ]
     },
     "metadata": {},
     "output_type": "display_data"
    },
    {
     "name": "stdout",
     "output_type": "stream",
     "text": [
      "Finished epoch 1. Average of the last 100 loss values: 0.008387\n"
     ]
    },
    {
     "data": {
      "application/vnd.jupyter.widget-view+json": {
       "model_id": "9996755129524def889025110a364ed5",
       "version_major": 2,
       "version_minor": 0
      },
      "text/plain": [
       "  0%|          | 0/460 [00:00<?, ?it/s]"
      ]
     },
     "metadata": {},
     "output_type": "display_data"
    },
    {
     "name": "stdout",
     "output_type": "stream",
     "text": [
      "Finished epoch 2. Average of the last 100 loss values: 0.007151\n"
     ]
    },
    {
     "data": {
      "application/vnd.jupyter.widget-view+json": {
       "model_id": "7937c34181f84f46910f726c15b18621",
       "version_major": 2,
       "version_minor": 0
      },
      "text/plain": [
       "  0%|          | 0/460 [00:00<?, ?it/s]"
      ]
     },
     "metadata": {},
     "output_type": "display_data"
    },
    {
     "name": "stdout",
     "output_type": "stream",
     "text": [
      "Finished epoch 3. Average of the last 100 loss values: 0.007143\n"
     ]
    },
    {
     "data": {
      "application/vnd.jupyter.widget-view+json": {
       "model_id": "700962ab5b1c4ccb8d9111db542375c7",
       "version_major": 2,
       "version_minor": 0
      },
      "text/plain": [
       "  0%|          | 0/460 [00:00<?, ?it/s]"
      ]
     },
     "metadata": {},
     "output_type": "display_data"
    },
    {
     "name": "stdout",
     "output_type": "stream",
     "text": [
      "Finished epoch 4. Average of the last 100 loss values: 0.006693\n"
     ]
    },
    {
     "data": {
      "application/vnd.jupyter.widget-view+json": {
       "model_id": "4a1fc7cf9ac84d5582f78feb055c6da0",
       "version_major": 2,
       "version_minor": 0
      },
      "text/plain": [
       "  0%|          | 0/460 [00:00<?, ?it/s]"
      ]
     },
     "metadata": {},
     "output_type": "display_data"
    },
    {
     "name": "stdout",
     "output_type": "stream",
     "text": [
      "Finished epoch 5. Average of the last 100 loss values: 0.006339\n"
     ]
    },
    {
     "data": {
      "application/vnd.jupyter.widget-view+json": {
       "model_id": "ab59beb9b9094a7eb5f38e5db649d317",
       "version_major": 2,
       "version_minor": 0
      },
      "text/plain": [
       "  0%|          | 0/460 [00:00<?, ?it/s]"
      ]
     },
     "metadata": {},
     "output_type": "display_data"
    },
    {
     "name": "stdout",
     "output_type": "stream",
     "text": [
      "Finished epoch 6. Average of the last 100 loss values: 0.006447\n"
     ]
    },
    {
     "data": {
      "application/vnd.jupyter.widget-view+json": {
       "model_id": "0cfd301039084ddb89927954894d4bef",
       "version_major": 2,
       "version_minor": 0
      },
      "text/plain": [
       "  0%|          | 0/460 [00:00<?, ?it/s]"
      ]
     },
     "metadata": {},
     "output_type": "display_data"
    },
    {
     "name": "stdout",
     "output_type": "stream",
     "text": [
      "Finished epoch 7. Average of the last 100 loss values: 0.006154\n"
     ]
    },
    {
     "data": {
      "application/vnd.jupyter.widget-view+json": {
       "model_id": "00ffdd5ecfd24bd2b0bfcefdc370b0c6",
       "version_major": 2,
       "version_minor": 0
      },
      "text/plain": [
       "  0%|          | 0/460 [00:00<?, ?it/s]"
      ]
     },
     "metadata": {},
     "output_type": "display_data"
    },
    {
     "name": "stdout",
     "output_type": "stream",
     "text": [
      "Finished epoch 8. Average of the last 100 loss values: 0.005882\n"
     ]
    },
    {
     "data": {
      "application/vnd.jupyter.widget-view+json": {
       "model_id": "a26ed128be2e4957a67bb55328abe2c2",
       "version_major": 2,
       "version_minor": 0
      },
      "text/plain": [
       "  0%|          | 0/460 [00:00<?, ?it/s]"
      ]
     },
     "metadata": {},
     "output_type": "display_data"
    },
    {
     "name": "stdout",
     "output_type": "stream",
     "text": [
      "Finished epoch 9. Average of the last 100 loss values: 0.006129\n"
     ]
    },
    {
     "data": {
      "application/vnd.jupyter.widget-view+json": {
       "model_id": "a71114e46f704c038b731c572013446f",
       "version_major": 2,
       "version_minor": 0
      },
      "text/plain": [
       "  0%|          | 0/460 [00:00<?, ?it/s]"
      ]
     },
     "metadata": {},
     "output_type": "display_data"
    },
    {
     "name": "stdout",
     "output_type": "stream",
     "text": [
      "Finished epoch 10. Average of the last 100 loss values: 0.005511\n"
     ]
    },
    {
     "data": {
      "application/vnd.jupyter.widget-view+json": {
       "model_id": "1e932fa0fb1349b6bc43ea04b1caddc0",
       "version_major": 2,
       "version_minor": 0
      },
      "text/plain": [
       "  0%|          | 0/460 [00:00<?, ?it/s]"
      ]
     },
     "metadata": {},
     "output_type": "display_data"
    },
    {
     "name": "stdout",
     "output_type": "stream",
     "text": [
      "Finished epoch 11. Average of the last 100 loss values: 0.998923\n"
     ]
    },
    {
     "data": {
      "application/vnd.jupyter.widget-view+json": {
       "model_id": "577486a7e8364c05b2c3e7d3ce2bf9e3",
       "version_major": 2,
       "version_minor": 0
      },
      "text/plain": [
       "  0%|          | 0/460 [00:00<?, ?it/s]"
      ]
     },
     "metadata": {},
     "output_type": "display_data"
    },
    {
     "name": "stdout",
     "output_type": "stream",
     "text": [
      "Finished epoch 12. Average of the last 100 loss values: 0.988224\n"
     ]
    },
    {
     "data": {
      "application/vnd.jupyter.widget-view+json": {
       "model_id": "0c5ee74311584f23975c7699fbfa879e",
       "version_major": 2,
       "version_minor": 0
      },
      "text/plain": [
       "  0%|          | 0/460 [00:00<?, ?it/s]"
      ]
     },
     "metadata": {},
     "output_type": "display_data"
    },
    {
     "name": "stdout",
     "output_type": "stream",
     "text": [
      "Finished epoch 13. Average of the last 100 loss values: 0.977561\n"
     ]
    },
    {
     "data": {
      "application/vnd.jupyter.widget-view+json": {
       "model_id": "ff1d113ea8314ebb9b1b207b861dc18f",
       "version_major": 2,
       "version_minor": 0
      },
      "text/plain": [
       "  0%|          | 0/460 [00:00<?, ?it/s]"
      ]
     },
     "metadata": {},
     "output_type": "display_data"
    },
    {
     "name": "stdout",
     "output_type": "stream",
     "text": [
      "Finished epoch 14. Average of the last 100 loss values: 0.967308\n"
     ]
    },
    {
     "data": {
      "text/plain": [
       "[<matplotlib.lines.Line2D at 0x7953057375b0>]"
      ]
     },
     "execution_count": 4,
     "metadata": {},
     "output_type": "execute_result"
    },
    {
     "data": {
      "image/png": "[encoded data removed]",
      "text/plain": [
       "<Figure size 640x480 with 1 Axes>"
      ]
     },
     "metadata": {},
     "output_type": "display_data"
    }
   ],
   "source": [
    "device = \"cuda\" if torch.cuda.is_available() else \"cpu\"\n",
    "print(f\"Using device: {device}\")\n",
    "\n",
    "train_dataloader = DataLoader(dataset, batch_size=16, shuffle=True)\n",
    "n_epochs = 15\n",
    "\n",
    "net = ClassConditionedUnet().to(device)\n",
    "loss_fn = nn.MSELoss()\n",
    "opt = torch.optim.Adam(net.parameters(), lr=1e-3)\n",
    "\n",
    "losses = []\n",
    "aux = 1e9\n",
    "\n",
    "# The training loop\n",
    "for epoch in range(n_epochs):\n",
    "    for x, y in tqdm(train_dataloader):\n",
    "\n",
    "        # Get some data and prepare the corrupted version\n",
    "        x = x.to(device) # Data on the GPU (mapped to (0, 1))\n",
    "        y = y.to(device)\n",
    "        noise = torch.randn_like(x)\n",
    "        timesteps = torch.randint(0, 999, (x.shape[0],)).long().to(device)\n",
    "        noisy_x = noise_scheduler.add_noise(x, noise, timesteps)\n",
    "\n",
    "        # Get the model prediction\n",
    "        pred = net(noisy_x, timesteps, y)  # Note that we pass in the labels y\n",
    "\n",
    "        # Calculate the loss\n",
    "        loss = loss_fn(pred, noise)  # How close is the output to the noise\n",
    "\n",
    "        # Backprop and update the params:\n",
    "        opt.zero_grad()\n",
    "        loss.backward()\n",
    "        opt.step()\n",
    "\n",
    "        # Store the loss for later\n",
    "        losses.append(loss.item())\n",
    "\n",
    "    # Print out the average of the last 100 loss values to get an idea of progress:\n",
    "    avg_loss = sum(losses[-100:]) / 100\n",
    "    print(f\"Finished epoch {epoch}. Average of the last 100 loss values: {avg_loss:05f}\")\n",
    "\n",
    "    if avg_loss < aux:\n",
    "        torch.save(net, 'diffusion_model.pt')\n",
    "        aux = avg_loss\n",
    "\n",
    "# View the loss curve\n",
    "plt.plot(losses)"
   ]
  },
  {
   "cell_type": "code",
   "execution_count": 6,
   "id": "a265feff",
   "metadata": {},
   "outputs": [],
   "source": [
    "net = torch.load('diffusion_model.pt', weights_only=False)"
   ]
  },
  {
   "cell_type": "code",
   "execution_count": 9,
   "id": "5e862ce2",
   "metadata": {},
   "outputs": [
    {
     "data": {
      "application/vnd.jupyter.widget-view+json": {
       "model_id": "379fc2f70a204afbaac8716c75ad8e72",
       "version_major": 2,
       "version_minor": 0
      },
      "text/plain": [
       "0it [00:00, ?it/s]"
      ]
     },
     "metadata": {},
     "output_type": "display_data"
    },
    {
     "data": {
      "image/png": "[encoded data removed]",
      "text/plain": [
       "<Figure size 200x200 with 1 Axes>"
      ]
     },
     "metadata": {},
     "output_type": "display_data"
    }
   ],
   "source": [
    "# Sampling one sample:\n",
    "x = torch.randn(1, 1, 64, 64).to(device)\n",
    "y = torch.tensor([0.3951528], dtype=torch.float32).to(device)  # Example continuous polarizability value\n",
    "\n",
    "for i, t in tqdm(enumerate(noise_scheduler.timesteps)):\n",
    "    with torch.no_grad():\n",
    "        residual = net(x, t, y)\n",
    "    x = noise_scheduler.step(residual, t, x).prev_sample\n",
    "\n",
    "plt.figure(figsize=(2, 2))\n",
    "plt.imshow(x.detach().cpu().clip(-1, 1).squeeze(), cmap=\"Greys\")\n",
    "plt.axis('off')\n",
    "plt.show()"
   ]
  },
  {
   "cell_type": "code",
   "execution_count": 11,
   "id": "c796e0ee",
   "metadata": {},
   "outputs": [
    {
     "data": {
      "image/png": "[encoded data removed]",
      "text/plain": [
       "<Figure size 200x200 with 1 Axes>"
      ]
     },
     "metadata": {},
     "output_type": "display_data"
    }
   ],
   "source": [
    "import matplotlib.pyplot as plt\n",
    "\n",
    "for idx in range(len(dataset)):\n",
    "    image, label = dataset[idx]\n",
    "    if label == 0.3951528:\n",
    "        plt.figure(figsize=(2,2))\n",
    "        plt.imshow(image.clip(-1, 1).squeeze(), cmap='Greys')\n",
    "        plt.axis('off')\n",
    "        plt.show()\n",
    "        plt.close()\n",
    "        break"
   ]
  }
 ],
 "metadata": {
  "kernelspec": {
   "display_name": "base",
   "language": "python",
   "name": "python3"
  },
  "language_info": {
   "codemirror_mode": {
    "name": "ipython",
    "version": 3
   },
   "file_extension": ".py",
   "mimetype": "text/x-python",
   "name": "python",
   "nbconvert_exporter": "python",
   "pygments_lexer": "ipython3",
   "version": "3.10.13"
  }
 },
 "nbformat": 4,
 "nbformat_minor": 5
}
