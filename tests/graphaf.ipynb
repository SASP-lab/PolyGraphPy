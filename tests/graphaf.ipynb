{
 "cells": [
  {
   "cell_type": "code",
   "execution_count": 1,
   "id": "5481fd30",
   "metadata": {},
   "outputs": [],
   "source": [
    "import pandas as pd\n",
    "\n",
    "df = pd.read_csv('../polygraphpy/data/polarizability_data.csv')\n",
    "df = df[df['chain_size'] == 0]\n",
    "df.to_csv('filterd_polarizability.csv', index=False)"
   ]
  },
  {
   "cell_type": "code",
   "execution_count": 2,
   "id": "b0422cdb",
   "metadata": {},
   "outputs": [
    {
     "name": "stderr",
     "output_type": "stream",
     "text": [
      "/home/jgduarte/psi4conda/lib/python3.10/site-packages/torchdrug/data/feature.py:42: UserWarning: Unknown value `Na`\n",
      "  warnings.warn(\"Unknown value `%s`\" % x)\n",
      "/home/jgduarte/psi4conda/lib/python3.10/site-packages/torchdrug/data/feature.py:42: UserWarning: Unknown value `K`\n",
      "  warnings.warn(\"Unknown value `%s`\" % x)\n"
     ]
    }
   ],
   "source": [
    "import torch\n",
    "from torchdrug import data, models, tasks, core\n",
    "from torchdrug.layers import distribution\n",
    "from torchdrug.core import Registry as R\n",
    "from torch import nn, optim\n",
    "\n",
    "@R.register(\"datasets.CustomMolecule\")\n",
    "class CustomMoleculeDataset(data.MoleculeDataset):\n",
    "    def __init__(self, *args, **kwargs):\n",
    "        super().__init__(*args, **kwargs)\n",
    "\n",
    "dataset = CustomMoleculeDataset()\n",
    "dataset.load_csv('filterd_polarizability.csv', smiles_field='smiles', target_fields=['static_polarizability'], kekulize=True, atom_feature='symbol')"
   ]
  },
  {
   "cell_type": "code",
   "execution_count": 3,
   "id": "1dafd22e",
   "metadata": {},
   "outputs": [
    {
     "name": "stdout",
     "output_type": "stream",
     "text": [
      "16:22:35   Preprocess training set\n",
      "16:22:35   {'batch_size': 32,\n",
      " 'class': 'core.Engine',\n",
      " 'gpus': [0],\n",
      " 'gradient_interval': 1,\n",
      " 'log_interval': 100,\n",
      " 'logger': 'logging',\n",
      " 'num_worker': 0,\n",
      " 'optimizer': {'amsgrad': False,\n",
      "               'betas': (0.9, 0.999),\n",
      "               'capturable': False,\n",
      "               'class': 'optim.Adam',\n",
      "               'differentiable': False,\n",
      "               'eps': 1e-08,\n",
      "               'foreach': None,\n",
      "               'fused': None,\n",
      "               'lr': 0.001,\n",
      "               'maximize': False,\n",
      "               'weight_decay': 0},\n",
      " 'scheduler': None,\n",
      " 'task': {'agent_update_interval': 5,\n",
      "          'baseline_momentum': 0.9,\n",
      "          'class': 'tasks.AutoregressiveGeneration',\n",
      "          'criterion': 'nll',\n",
      "          'edge_model': {'class': 'models.GraphAF',\n",
      "                         'dequantization_noise': 0.9,\n",
      "                         'model': {'activation': 'relu',\n",
      "                                   'batch_norm': True,\n",
      "                                   'class': 'models.RGCN',\n",
      "                                   'concat_hidden': False,\n",
      "                                   'edge_input_dim': None,\n",
      "                                   'hidden_dims': [128, 128, 128],\n",
      "                                   'input_dim': 13,\n",
      "                                   'num_relation': 3,\n",
      "                                   'readout': 'sum',\n",
      "                                   'short_cut': False},\n",
      "                         'num_layer': 12,\n",
      "                         'num_mlp_layer': 2,\n",
      "                         'prior': IndependentGaussian(),\n",
      "                         'use_edge': True},\n",
      "          'gamma': 0.9,\n",
      "          'max_edge_unroll': 12,\n",
      "          'max_node': 38,\n",
      "          'node_model': {'class': 'models.GraphAF',\n",
      "                         'dequantization_noise': 0.9,\n",
      "                         'model': {'activation': 'relu',\n",
      "                                   'batch_norm': True,\n",
      "                                   'class': 'models.RGCN',\n",
      "                                   'concat_hidden': False,\n",
      "                                   'edge_input_dim': None,\n",
      "                                   'hidden_dims': [128, 128, 128],\n",
      "                                   'input_dim': 13,\n",
      "                                   'num_relation': 3,\n",
      "                                   'readout': 'sum',\n",
      "                                   'short_cut': False},\n",
      "                         'num_layer': 12,\n",
      "                         'num_mlp_layer': 2,\n",
      "                         'prior': IndependentGaussian(),\n",
      "                         'use_edge': False},\n",
      "          'num_edge_sample': -1,\n",
      "          'num_node_sample': -1,\n",
      "          'reward_temperature': 1,\n",
      "          'task': ()},\n",
      " 'test_set': None,\n",
      " 'train_set': {'class': 'datasets.CustomMolecule'},\n",
      " 'valid_set': None}\n"
     ]
    }
   ],
   "source": [
    "model = models.RGCN(input_dim=dataset.num_atom_type, num_relation=dataset.num_bond_type, hidden_dims=[128, 128, 128], batch_norm=True)\n",
    "\n",
    "num_atom_type = dataset.num_atom_type\n",
    "num_bond_type = dataset.num_bond_type + 1\n",
    "\n",
    "node_prior = distribution.IndependentGaussian(torch.zeros(num_atom_type), torch.ones(num_atom_type))\n",
    "edge_prior = distribution.IndependentGaussian(torch.zeros(num_bond_type), torch.ones(num_bond_type))\n",
    "\n",
    "node_flow = models.GraphAF(model, node_prior, num_layer=12)\n",
    "edge_flow = models.GraphAF(model, edge_prior, use_edge=True, num_layer=12)\n",
    "\n",
    "task = tasks.AutoregressiveGeneration(node_flow, edge_flow, max_node=38, max_edge_unroll=12, criterion='nll')\n",
    "\n",
    "optimizer = optim.Adam(task.parameters(), lr=1e-3)\n",
    "solver = core.Engine(task, dataset, None, None, optimizer, gpus=[0], batch_size=32)"
   ]
  },
  {
   "cell_type": "code",
   "execution_count": null,
   "id": "818024e4",
   "metadata": {},
   "outputs": [
    {
     "name": "stdout",
     "output_type": "stream",
     "text": [
      "16:22:37   >>>>>>>>>>>>>>>>>>>>>>>>>>>>>>\n",
      "16:22:37   Epoch 0 begin\n"
     ]
    },
    {
     "name": "stderr",
     "output_type": "stream",
     "text": [
      "/home/jgduarte/psi4conda/lib/python3.10/site-packages/torchdrug/data/molecule.py:124: UserWarning: Try to apply masks on molecules with stereo bonds. This may produce invalid molecules. To discard stereo information, call `mol.bond_stereo[:] = 0` before applying masks.\n",
      "  warnings.warn(\"Try to apply masks on molecules with stereo bonds. This may produce invalid molecules. \"\n",
      "/home/jgduarte/psi4conda/lib/python3.10/site-packages/torchdrug/data/molecule.py:124: UserWarning: Try to apply masks on molecules with stereo bonds. This may produce invalid molecules. To discard stereo information, call `mol.bond_stereo[:] = 0` before applying masks.\n",
      "  warnings.warn(\"Try to apply masks on molecules with stereo bonds. This may produce invalid molecules. \"\n"
     ]
    },
    {
     "name": "stdout",
     "output_type": "stream",
     "text": [
      "16:22:38   >>>>>>>>>>>>>>>>>>>>>>>>>>>>>>\n",
      "16:22:38   edge log likelihood: -24.3833\n",
      "16:22:38   edge mask / graph: 175.812\n",
      "16:22:38   node log likelihood: -3007.38\n",
      "16:22:38   node mask / graph: 21.0938\n"
     ]
    },
    {
     "name": "stderr",
     "output_type": "stream",
     "text": [
      "/home/jgduarte/psi4conda/lib/python3.10/site-packages/torchdrug/tasks/generation.py:505: UserWarning: Graphs with less than 2 nodes can't be used for edge generation learning. Dropped\n",
      "  warnings.warn(\"Graphs with less than 2 nodes can't be used for edge generation learning. Dropped\")\n"
     ]
    },
    {
     "name": "stdout",
     "output_type": "stream",
     "text": [
      "16:22:51   >>>>>>>>>>>>>>>>>>>>>>>>>>>>>>\n",
      "16:22:51   edge log likelihood: -3.77118\n",
      "16:22:51   edge mask / graph: 182.625\n",
      "16:22:51   node log likelihood: -15.2756\n",
      "16:22:51   node mask / graph: 21.7188\n",
      "16:23:03   >>>>>>>>>>>>>>>>>>>>>>>>>>>>>>\n",
      "16:23:03   edge log likelihood: -2.6299\n",
      "16:23:03   edge mask / graph: 204.375\n",
      "16:23:03   node log likelihood: -14.8928\n",
      "16:23:03   node mask / graph: 23.5312\n"
     ]
    }
   ],
   "source": [
    "solver.train(num_epoch=10)\n",
    "solver.save('graphaf_model.pkl')"
   ]
  }
 ],
 "metadata": {
  "kernelspec": {
   "display_name": "base",
   "language": "python",
   "name": "python3"
  },
  "language_info": {
   "codemirror_mode": {
    "name": "ipython",
    "version": 3
   },
   "file_extension": ".py",
   "mimetype": "text/x-python",
   "name": "python",
   "nbconvert_exporter": "python",
   "pygments_lexer": "ipython3",
   "version": "3.10.13"
  }
 },
 "nbformat": 4,
 "nbformat_minor": 5
}
