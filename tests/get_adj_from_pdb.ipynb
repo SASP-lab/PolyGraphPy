{
 "cells": [
  {
   "cell_type": "code",
   "execution_count": 3,
   "id": "04aef6a0",
   "metadata": {},
   "outputs": [
    {
     "name": "stdout",
     "output_type": "stream",
     "text": [
      "[[0 1 0 ... 0 0 0]\n",
      " [1 0 1 ... 0 0 0]\n",
      " [0 1 0 ... 0 0 0]\n",
      " ...\n",
      " [0 0 0 ... 0 1 0]\n",
      " [0 0 0 ... 1 0 1]\n",
      " [0 0 0 ... 0 1 0]]\n",
      "(56, 56)\n"
     ]
    }
   ],
   "source": [
    "from rdkit import Chem\n",
    "import numpy as np\n",
    "\n",
    "mol = Chem.MolFromPDBFile('xyz_files/homopoly_3248_chain_2.pdb')\n",
    "\n",
    "adj_matrix = Chem.GetAdjacencyMatrix(mol)\n",
    "adj_matrix = np.array(adj_matrix)\n",
    "\n",
    "print(adj_matrix)\n",
    "print(adj_matrix.shape)"
   ]
  },
  {
   "cell_type": "code",
   "execution_count": 5,
   "id": "962a250f",
   "metadata": {},
   "outputs": [
    {
     "name": "stdout",
     "output_type": "stream",
     "text": [
      "[[6. 1.]\n",
      " [8. 2.]\n",
      " [6. 3.]\n",
      " [8. 1.]\n",
      " [6. 3.]\n",
      " [6. 2.]\n",
      " [6. 3.]\n",
      " [6. 2.]\n",
      " [6. 3.]\n",
      " [8. 1.]\n",
      " [6. 2.]\n",
      " [6. 2.]\n",
      " [6. 3.]\n",
      " [8. 1.]\n",
      " [6. 1.]\n",
      " [8. 2.]\n",
      " [6. 3.]\n",
      " [8. 1.]\n",
      " [6. 3.]\n",
      " [6. 3.]\n",
      " [6. 3.]\n",
      " [6. 2.]\n",
      " [6. 3.]\n",
      " [8. 1.]\n",
      " [6. 2.]\n",
      " [6. 2.]\n",
      " [6. 3.]\n",
      " [8. 1.]\n",
      " [6. 1.]\n",
      " [8. 2.]\n",
      " [6. 3.]\n",
      " [8. 1.]\n",
      " [6. 3.]\n",
      " [6. 3.]\n",
      " [6. 3.]\n",
      " [6. 2.]\n",
      " [6. 3.]\n",
      " [8. 1.]\n",
      " [6. 2.]\n",
      " [6. 2.]\n",
      " [6. 3.]\n",
      " [8. 1.]\n",
      " [6. 1.]\n",
      " [8. 2.]\n",
      " [6. 3.]\n",
      " [8. 1.]\n",
      " [6. 3.]\n",
      " [6. 2.]\n",
      " [6. 3.]\n",
      " [6. 2.]\n",
      " [6. 3.]\n",
      " [8. 1.]\n",
      " [6. 2.]\n",
      " [6. 2.]\n",
      " [6. 3.]\n",
      " [8. 1.]]\n"
     ]
    }
   ],
   "source": [
    "n_atoms = mol.GetNumAtoms()\n",
    "feature_matrix = np.zeros((n_atoms, 2))\n",
    "\n",
    "for i, atom in enumerate(mol.GetAtoms()):\n",
    "    feature_matrix[i, 0] = atom.GetAtomicNum()\n",
    "    feature_matrix[i, 1] = atom.GetDegree()\n",
    "\n",
    "print(feature_matrix)"
   ]
  }
 ],
 "metadata": {
  "kernelspec": {
   "display_name": "base",
   "language": "python",
   "name": "python3"
  },
  "language_info": {
   "codemirror_mode": {
    "name": "ipython",
    "version": 3
   },
   "file_extension": ".py",
   "mimetype": "text/x-python",
   "name": "python",
   "nbconvert_exporter": "python",
   "pygments_lexer": "ipython3",
   "version": "3.10.13"
  }
 },
 "nbformat": 4,
 "nbformat_minor": 5
}
