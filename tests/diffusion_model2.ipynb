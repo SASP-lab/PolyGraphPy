{
 "cells": [
  {
   "cell_type": "markdown",
   "id": "9e7bc164",
   "metadata": {},
   "source": [
    "# Test"
   ]
  },
  {
   "cell_type": "code",
   "execution_count": 1,
   "id": "99260200",
   "metadata": {},
   "outputs": [
    {
     "name": "stdout",
     "output_type": "stream",
     "text": [
      "Using device: cpu\n"
     ]
    }
   ],
   "source": [
    "import torch\n",
    "import torchvision\n",
    "from torch import nn\n",
    "from torch.nn import functional as F\n",
    "from torch.utils.data import DataLoader\n",
    "from diffusers import DDPMScheduler, UNet2DModel\n",
    "from matplotlib import pyplot as plt\n",
    "from tqdm.auto import tqdm\n",
    "\n",
    "device = \"cuda\" if torch.cuda.is_available() else \"cpu\"\n",
    "print(f\"Using device: {device}\")"
   ]
  },
  {
   "cell_type": "code",
   "execution_count": 2,
   "id": "ca57b8a6",
   "metadata": {},
   "outputs": [
    {
     "name": "stderr",
     "output_type": "stream",
     "text": [
      "100%|██████████| 9.91M/9.91M [00:00<00:00, 17.6MB/s]\n",
      "100%|██████████| 28.9k/28.9k [00:00<00:00, 537kB/s]\n",
      "100%|██████████| 1.65M/1.65M [00:00<00:00, 5.15MB/s]\n",
      "100%|██████████| 4.54k/4.54k [00:00<00:00, 3.64MB/s]"
     ]
    },
    {
     "name": "stdout",
     "output_type": "stream",
     "text": [
      "Input shape: torch.Size([8, 1, 28, 28])\n",
      "Labels: tensor([3, 5, 5, 3, 3, 9, 7, 2])\n"
     ]
    },
    {
     "name": "stderr",
     "output_type": "stream",
     "text": [
      "\n"
     ]
    },
    {
     "data": {
      "text/plain": [
       "<matplotlib.image.AxesImage at 0x16a143230>"
      ]
     },
     "execution_count": 2,
     "metadata": {},
     "output_type": "execute_result"
    },
    {
     "data": {
      "image/png": "[encoded data removed]",
      "text/plain": [
       "<Figure size 640x480 with 1 Axes>"
      ]
     },
     "metadata": {},
     "output_type": "display_data"
    }
   ],
   "source": [
    "# Load the dataset\n",
    "dataset = torchvision.datasets.MNIST(\n",
    "    root=\"mnist/\", train=True, download=True, transform=torchvision.transforms.ToTensor()\n",
    ")\n",
    "\n",
    "# Feed it into a dataloader (batch size 8 here just for demo)\n",
    "train_dataloader = DataLoader(dataset, batch_size=8, shuffle=True)\n",
    "\n",
    "# View some examples\n",
    "x, y = next(iter(train_dataloader))\n",
    "print(\"Input shape:\", x.shape)\n",
    "print(\"Labels:\", y)\n",
    "plt.imshow(torchvision.utils.make_grid(x)[0], cmap=\"Greys\")"
   ]
  },
  {
   "cell_type": "code",
   "execution_count": 10,
   "id": "b65fdc24",
   "metadata": {},
   "outputs": [],
   "source": [
    "class ClassConditionedUnet(nn.Module):\n",
    "    def __init__(self, num_classes=10, class_emb_size=4):\n",
    "        super().__init__()\n",
    "\n",
    "        # The embedding layer will map the class label to a vector of size class_emb_size\n",
    "        self.class_emb = nn.Embedding(num_classes, class_emb_size)\n",
    "\n",
    "        # Self.model is an unconditional UNet with extra input channels to accept the conditioning information (the class embedding)\n",
    "        self.model = UNet2DModel(\n",
    "            sample_size=28,  # the target image resolution\n",
    "            in_channels=1 + class_emb_size,  # Additional input channels for class cond.\n",
    "            out_channels=1,  # the number of output channels\n",
    "            layers_per_block=2,  # how many ResNet layers to use per UNet block\n",
    "            block_out_channels=(32, 64, 64),\n",
    "            down_block_types=(\n",
    "                \"DownBlock2D\",  # a regular ResNet downsampling block\n",
    "                \"AttnDownBlock2D\",  # a ResNet downsampling block with spatial self-attention\n",
    "                \"AttnDownBlock2D\",\n",
    "            ),\n",
    "            up_block_types=(\n",
    "                \"AttnUpBlock2D\",\n",
    "                \"AttnUpBlock2D\",  # a ResNet upsampling block with spatial self-attention\n",
    "                \"UpBlock2D\",  # a regular ResNet upsampling block\n",
    "            ),\n",
    "        )\n",
    "\n",
    "    # Our forward method now takes the class labels as an additional argument\n",
    "    def forward(self, x, t, class_labels):\n",
    "        # Shape of x:\n",
    "        bs, ch, w, h = x.shape\n",
    "\n",
    "        # class conditioning in right shape to add as additional input channels\n",
    "        class_cond = self.class_emb(class_labels)  # Map to embedding dimension\n",
    "        class_cond = class_cond.view(bs, class_cond.shape[1], 1, 1).expand(bs, class_cond.shape[1], w, h)\n",
    "        # x is shape (bs, 1, 28, 28) and class_cond is now (bs, 4, 28, 28)\n",
    "\n",
    "        # Net input is now x and class cond concatenated together along dimension 1\n",
    "        net_input = torch.cat((x, class_cond), 1)  # (bs, 5, 28, 28)\n",
    "\n",
    "        # Feed this to the UNet alongside the timestep and return the prediction\n",
    "        return self.model(net_input, t).sample  # (bs, 1, 28, 28)"
   ]
  },
  {
   "cell_type": "code",
   "execution_count": 11,
   "id": "20653cf4",
   "metadata": {},
   "outputs": [],
   "source": [
    "# Create a scheduler\n",
    "noise_scheduler = DDPMScheduler(num_train_timesteps=1000, beta_schedule=\"squaredcos_cap_v2\")"
   ]
  },
  {
   "cell_type": "code",
   "execution_count": null,
   "id": "bed5d8f7",
   "metadata": {},
   "outputs": [],
   "source": [
    "# @markdown Training loop (10 Epochs):\n",
    "\n",
    "# Redefining the dataloader to set the batch size higher than the demo of 8\n",
    "train_dataloader = DataLoader(dataset, batch_size=128, shuffle=True)\n",
    "\n",
    "# How many runs through the data should we do?\n",
    "n_epochs = 10\n",
    "\n",
    "# Our network\n",
    "net = ClassConditionedUnet().to(device)\n",
    "\n",
    "# Our loss function\n",
    "loss_fn = nn.MSELoss()\n",
    "\n",
    "# The optimizer\n",
    "opt = torch.optim.Adam(net.parameters(), lr=1e-3)\n",
    "\n",
    "# Keeping a record of the losses for later viewing\n",
    "losses = []\n",
    "\n",
    "# The training loop\n",
    "for epoch in range(n_epochs):\n",
    "    for x, y in tqdm(train_dataloader):\n",
    "\n",
    "        # Get some data and prepare the corrupted version\n",
    "        x = x.to(device) * 2 - 1  # Data on the GPU (mapped to (-1, 1))\n",
    "        y = y.to(device)\n",
    "        noise = torch.randn_like(x)\n",
    "        timesteps = torch.randint(0, 999, (x.shape[0],)).long().to(device)\n",
    "        noisy_x = noise_scheduler.add_noise(x, noise, timesteps)\n",
    "\n",
    "        # Get the model prediction\n",
    "        pred = net(noisy_x, timesteps, y)  # Note that we pass in the labels y\n",
    "\n",
    "        # Calculate the loss\n",
    "        loss = loss_fn(pred, noise)  # How close is the output to the noise\n",
    "\n",
    "        # Backprop and update the params:\n",
    "        opt.zero_grad()\n",
    "        loss.backward()\n",
    "        opt.step()\n",
    "\n",
    "        # Store the loss for later\n",
    "        losses.append(loss.item())\n",
    "\n",
    "    # Print out the average of the last 100 loss values to get an idea of progress:\n",
    "    avg_loss = sum(losses[-100:]) / 100\n",
    "    print(f\"Finished epoch {epoch}. Average of the last 100 loss values: {avg_loss:05f}\")\n",
    "\n",
    "# View the loss curve\n",
    "plt.plot(losses)"
   ]
  }
 ],
 "metadata": {
  "kernelspec": {
   "display_name": ".venv",
   "language": "python",
   "name": "python3"
  },
  "language_info": {
   "codemirror_mode": {
    "name": "ipython",
    "version": 3
   },
   "file_extension": ".py",
   "mimetype": "text/x-python",
   "name": "python",
   "nbconvert_exporter": "python",
   "pygments_lexer": "ipython3",
   "version": "3.13.2"
  }
 },
 "nbformat": 4,
 "nbformat_minor": 5
}
